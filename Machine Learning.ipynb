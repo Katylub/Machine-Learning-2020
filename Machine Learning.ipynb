{
 "cells": [
  {
   "cell_type": "markdown",
   "metadata": {},
   "source": [
    "# Machine Learning and Statistic\n",
    "***"
   ]
  },
  {
   "cell_type": "markdown",
   "metadata": {},
   "source": [
    "# Introduction\n",
    "***"
   ]
  },
  {
   "cell_type": "markdown",
   "metadata": {},
   "source": [
    "This document have been created to complete Machine Learning and Stadistic tasks assesment using Python and Jupyter Notebook. \n",
    "\n",
    "This project will be separated in four different tasks which contain information about the requested assessment and demonstration in each section."
   ]
  },
  {
   "cell_type": "markdown",
   "metadata": {},
   "source": [
    "# Task 1: \n",
    "***"
   ]
  },
  {
   "cell_type": "markdown",
   "metadata": {},
   "source": [
    "<b>Write a Python function called sqrt2 that calculates and prints to the screen the square root of 2 to 100 decimal places. </b>\n",
    "\n",
    "We can calculate the square number of a root using Babylonian method, which sometimes is called Hero's method after the first-century Greek mathematician Hero of Alexandria who gave the first explicit description of the method in his work Metrica [1,2]. The formula is  derived from (but predates) Newton–Raphson method and can be represented as below:\n",
    "\n",
    "\\begin{equation}\n",
    "\\ x_{n+1} = \\frac{1}{2} \\left(x_n + \\frac{S}{x_n}\\right) \\\\\n",
    "\\end{equation}\n",
    "\n",
    "\n",
    "\n",
    "### About Babylonian Method \n",
    "\n",
    "The iterative method is called the Babylonian method for finding square roots. It was known to the ancient Babylonians (1500 BC) and Greeks (100 AD) long before Newton invented his general procedure.[3]\n",
    "\n",
    "Here's how it works. Suppose you are given any positive number $S$. To find the square root of $S$, do the following:\n",
    "\n",
    "1. Make an initial guess. Guess any positive number $x_{0}$.\n",
    "2. Improve the guess. Apply the formula \n",
    "$x_{1} = (x_{0} + S / x_{0}) / 2$. The average number $x_{1}$ calculated is a better approximation to sqrt($S$). \n",
    "3. Iterate until convergence. Apply the formula $x_{n+1} = (x_{n} + S / x_{n}) / 2$ until the process converges. Convergence is achieved when the digits of $x_{n+1}$ and $x_{n}$ agree to as many decimal places as you desire.\n",
    "\n",
    "### Demonstration\n",
    "\n",
    "The idea is simple, starting from an arbitrary value of x, and y as 1, we can simply get next approximation of root by finding the average of x and y. Then the y value will be updated with  number / x [1,4].\n",
    "\n",
    "We have to take in consideration, the floating point result is not represented exactly in Python because computers operate in base 2 (binary) while natural floating point numbers are in base 10 (decimal) [5]. In the example below we can see an example on this."
   ]
  },
  {
   "cell_type": "code",
   "execution_count": 1,
   "metadata": {},
   "outputs": [],
   "source": [
    "# Define the function to calculate the square root of a number n\n",
    "\n",
    "def square_root_2(n): \n",
    "  \n",
    "    # Use x as initial approximation (1)\n",
    "        x = n \n",
    "    # Initialize (2)\n",
    "        y = 1          \n",
    "    # e decides the accuracy level \n",
    "        e = 0.000001\n",
    "    # Create condition for accuracy and calculate the better guess (3)\n",
    "        while(x - y > e): \n",
    "    # Get the next approximation for root using average of x and y\n",
    "            x = (x + y)/2\n",
    "            y = n / x \n",
    "    # Return the (approximate) square root of x.\n",
    "        return x\n",
    "     "
   ]
  },
  {
   "cell_type": "code",
   "execution_count": 2,
   "metadata": {},
   "outputs": [
    {
     "data": {
      "text/plain": [
       "'1.4142135623746898698271934335934929549694061279296875000000000000000000000000000000000000000000000000'"
      ]
     },
     "execution_count": 2,
     "metadata": {},
     "output_type": "execute_result"
    }
   ],
   "source": [
    "#Ask for square root of 2 and print 100 decimals [5]. As mentioned the results do not provide all the floating points.\n",
    "\"{0:.100f}\".format(square_root_2(2))"
   ]
  },
  {
   "cell_type": "markdown",
   "metadata": {},
   "source": [
    "In order to <b> produce the square root of 2 with 100 decimal places</b>, the algorithm is similar but in this case will be necessary to multiply by powers of ten to give the result as integers [7, 8].\n",
    "\n",
    "In this case, in order to get 100 decimal places, the $S$ will be the number we want to find which is 2 multiplied to the order of $ 100^{100} $. \n",
    "\n",
    "The result will be the square root of 2 with 101 integers, after that will be necessary return the answer as string and concatenate to see the floating point [8].\n"
   ]
  },
  {
   "cell_type": "code",
   "execution_count": 3,
   "metadata": {},
   "outputs": [],
   "source": [
    "def sqrt2():\n",
    "    \n",
    "    # Number that you want to find the square root of \n",
    "    num = 2\n",
    "    S = num * 100 ** 100\n",
    "    # Create condition for accuracy and calculate the better guess (3)\n",
    "    xn = S//2\n",
    "    while S - (xn**2) < 0:\n",
    "    # Get the next approximation for root \n",
    "        xn = (xn + S//xn)//2    \n",
    "    xn = (str(xn))\n",
    "    # Result as string \n",
    "    return(xn[0] + \".\" + xn[1:])"
   ]
  },
  {
   "cell_type": "code",
   "execution_count": 4,
   "metadata": {},
   "outputs": [
    {
     "data": {
      "text/plain": [
       "'1.4142135623730950488016887242096980785696718753769480731766797379907324784621070388503875343276415727'"
      ]
     },
     "execution_count": 4,
     "metadata": {},
     "output_type": "execute_result"
    }
   ],
   "source": [
    "#The result is the square root of 2 with 100 decimal places\n",
    "sqrt2()"
   ]
  },
  {
   "cell_type": "markdown",
   "metadata": {},
   "source": [
    "Below we can see a simple way to graph the Square of any number [9]. The plot of a square root is always curved, per below looks like half of a parabola lying on its side. The graph starts at the point (0,0) and extends upwards and to the right. \n",
    "\n",
    "We know that we cannot have a negative underneath the square root (such as √−2). This means that we will only have positive x-values in an unaltered square root function. We also know that a function needs to pass the vertical line test, or in other words, there can only be 1 y-value for every x-value. This means that we will only use the positive answers for a square root."
   ]
  },
  {
   "cell_type": "code",
   "execution_count": 5,
   "metadata": {},
   "outputs": [
    {
     "data": {
      "image/png": "[encoded data removed]",
      "text/plain": [
       "<Figure size 840x560 with 1 Axes>"
      ]
     },
     "metadata": {
      "needs_background": "light"
     },
     "output_type": "display_data"
    }
   ],
   "source": [
    "# Import libraries\n",
    "import numpy as np\n",
    "from matplotlib import pyplot as plt\n",
    "\n",
    "plt.rcParams[\"figure.dpi\"] = 140\n",
    "\n",
    "fig, ax = plt.subplots()\n",
    "ax.spines[\"left\"].set_position(\"zero\")\n",
    "ax.spines[\"bottom\"].set_position(\"zero\")\n",
    "ax.spines[\"right\"].set_color(\"none\")\n",
    "ax.spines[\"top\"].set_color(\"none\")\n",
    "ax.xaxis.set_ticks_position(\"bottom\")\n",
    "ax.yaxis.set_ticks_position(\"left\")\n",
    "\n",
    "origin = [0, 0]\n",
    "\n",
    "# Plot values\n",
    "plt.plot(\n",
    "    np.linspace(0, 1, 1000),\n",
    "    np.sqrt(np.linspace(0, 1, 1000)),\n",
    "    color=\"k\",\n",
    ")\n",
    "\n",
    "ax.set_aspect(\"equal\")\n",
    "plt.xlim(-0.25, 1)\n",
    "plt.ylim(0, 1)\n",
    "plt.yticks(ticks=np.linspace(0, 1, 6))\n",
    "plt.show()"
   ]
  },
  {
   "cell_type": "markdown",
   "metadata": {},
   "source": [
    "### References \n",
    "\n",
    "1. GeeksforGeeks - Babylonian Method - https://www.geeksforgeeks.org/square-root-of-a-perfect-square/ \n",
    "2. Wikipedia -Baylonian Method https://en.wikipedia.org/wiki/Methods_of_computing_square_roots#Babylonian_method \n",
    "3. Blog SAS - Babylonian Method - https://blogs.sas.com/content/iml/2016/05/16/babylonian-square-roots.html \n",
    "4. Github Ian - Playing with Jupiter - https://github.com/ianmcloughlin/playing-with-jupyter/blob/main/playing-with-jupyter.ipynb \n",
    "5. GeeksforGeeks - Precision handling Python - https://www.geeksforgeeks.org/precision-handling-python/ \n",
    "6. Python Tutorial - Floating Point - https://docs.python.org/3/tutorial/floatingpoint.html\n",
    "7. Stackoverflow - Create decimal in Python - https://stackoverflow.com/questions/64278117/is-there-a-way-to-create-more-decimal-points-on-python-without-importing-a-libra\n",
    "8. GMIT - Student Forum Square Root - https://learnonline.gmit.ie/mod/forum/discuss.php?d=6033  \n",
    "9. Stackoverflow - Square root scale - https://stackoverflow.com/questions/42277989/square-root-scale-using-matplotlib-python"
   ]
  },
  {
   "cell_type": "markdown",
   "metadata": {},
   "source": [
    "\n",
    "# Task 2: \n",
    "***"
   ]
  },
  {
   "cell_type": "markdown",
   "metadata": {},
   "source": [
    "<b>Use scipy.stats to verify the Chi-squared value of the table below it is approximately 24.6 and and calculate the associated p value.</b>\n",
    "\n",
    "\n",
    "The Chi-squared test for independence is a statistical hypothesis test like a t-test. It is used to analyse whether two categorical variables are independent. In order to find Chi-square, we are going to use the SciPy package. SciPy is a Python-based open-source software for mathematics, science, and engineering [1, 2].\n",
    "\n",
    "\n",
    "|              | A   | B   | C   | D   | Total |\n",
    "|-------------:|-----|-----|-----|-----|-------|\n",
    "| White Collar | 90  | 60  | 104 | 95  | 349   |\n",
    "| Blue Collar  | 30  | 50  | 51  | 20  | 151   |\n",
    "| No Collar    | 30  | 40  | 45  | 35  | 150   |\n",
    "|------------- |-----|-----|-----|-----|-------|\n",
    "| Total        | 150 | 150 | 200 | 150 | 650   |\n",
    "    \n",
    "    \n",
    " ### About Chi-Square\n",
    "\n",
    "The Chi-square test for independence is also called Pearson’s chi-square test. Chi-square test for independence is used in science, economics, marketing, or other various fields. There are three ways to use the Chi-square. The Chi-square test for independence shows how two sets of data are independent of each other. Chi-square of the Goodness-of-fit test shows how different your data to the expected value. The test for homogeneity determines if two or more populations have the same distribution of a single categorical variable [2,3,4].\n",
    "\n",
    "In the section below we will implement an example of Chi-square test for independence which compares two variables in a contingency table to see if they are related. In a more general sense, it tests to see whether distributions of categorical variables differ from each another.\n",
    "\n",
    "- A very small chi square test statistic means that your observed data fits your expected data extremely well. In other words, there is a relationship.\n",
    "\n",
    "- A very large chi square test statistic means that the data does not fit very well. In other words, there isn’t a relationship.\n",
    "\n",
    "The formula for the chi-square statistic used in the chi square test is:\n",
    "\n",
    "\\begin{equation}\n",
    "\\chi^2=\\Sigma\\frac{(O-E)^2}{E} \\\\\n",
    "\\end{equation}\n",
    "\n",
    "A chi-square statistic is one way to show a relationship between two categorical variables. In statistics, there are two types of variables: numerical (countable) variables and non-numerical (categorical) variables. The chi-squared statistic is a single number that tells you how much difference exists between your observed counts and the counts you would expect if there were no relationship at all in the population.\n",
    "\n",
    "A low value for chi-square means there is a high correlation between your two sets of data. In theory, if your observed and expected values were equal (“no difference”) then chi-square would be zero — an event that is unlikely to happen in real life. Deciding whether a chi-square test statistic is large enough to indicate a statistically significant difference isn’t as easy it seems. It would be nice if we could say a chi-square test statistic >10 means a difference, but unfortunately that isn’t the case.\n",
    "\n",
    "To evaluate the difference you could use a p-value. First state the null hypothesis and the alternate hypothesis. Then generate a chi-square curve for your results along with a p-value. Small p-values (under 5%) usually indicate that a difference is significant (or “small enough”).\n",
    "\n",
    "<b>Using Chi Square P-Values</b>\n",
    "\n",
    "A chi square test will give you a p-value. The p-value will tell you if your test results are significant or not. In order to perform a chi square test and get the p-value, you need two pieces of information:\n",
    "\n",
    "\n",
    "1. Degrees of freedom: You can find the degree of freedom in the third returned value when you use SciPy. The degree of freedom is used to find the p-value. The way you find the degree of freedom (dof) for 𝜒2 for independence is dof = (the number of rows - 1) X (The number of columns - 1)\n",
    "\n",
    "\n",
    "2. The alpha level(α). This is chosen by you, or the researcher. The usual alpha level is 0.05 (5%), but you could also have other levels like 0.01 or 0.10.\n",
    "\n",
    "### Demonstration\n",
    "\n",
    "In the example below we demostrated that the Chi-square of the table above is approximately 24.6 and we can see the P-Value is 0.00041 which is lower than 0.01 which is one of the usual alpha level, therefore we reject the null hypothesis of independence and accept that the variables have a relation. \n",
    "\n",
    "Finally, the array at the end of the output is the contingency table (also called crosstab) with expected values based on all of our samples. Is used in statistics to summarise the relationship between several categorical variables and in our example we can see that blue collar and no collar have similar distribution and the white collar have higher values. \n",
    "\n",
    "See below steps to calculate the Chi-Square of the table requested:"
   ]
  },
  {
   "cell_type": "code",
   "execution_count": 6,
   "metadata": {},
   "outputs": [],
   "source": [
    "# We add the data using Numpy dataframe and we will store our data in the table in a variable called collars[9].\n",
    "\n",
    "import numpy as np\n",
    "\n",
    "a1 = [90, 60, 104, 95]\n",
    "a2 = [30, 50, 51, 20]\n",
    "a3 = [30, 40, 45, 35]\n",
    "\n",
    "collars = np.array([a1, a2, a3])"
   ]
  },
  {
   "cell_type": "code",
   "execution_count": 7,
   "metadata": {},
   "outputs": [
    {
     "name": "stdout",
     "output_type": "stream",
     "text": [
      "===Chi2 Stat===\n",
      "24.5712028585826\n",
      "\n",
      "\n",
      "===Degrees of Freedom===\n",
      "6\n",
      "\n",
      "\n",
      "===P-Value===\n",
      "0.0004098425861096696\n",
      "\n",
      "\n",
      "===Contingency Table===\n",
      "[[ 80.53846154  80.53846154 107.38461538  80.53846154]\n",
      " [ 34.84615385  34.84615385  46.46153846  34.84615385]\n",
      " [ 34.61538462  34.61538462  46.15384615  34.61538462]]\n"
     ]
    }
   ],
   "source": [
    "# Using SciPy’s chi2_contingency() we will get four values, 𝜒2 value, p-value, degree of freedom and expected values. \n",
    "# The data is represented in a easy to read code as SciPy give the data not organised [9]. \n",
    "\n",
    "from scipy import stats\n",
    "stats.chi2_contingency(collars)\n",
    "\n",
    "chi2_stat, p_val, dof, ex = stats.chi2_contingency(collars)\n",
    "print(\"===Chi2 Stat===\")\n",
    "print(chi2_stat)\n",
    "print(\"\\n\")\n",
    "print(\"===Degrees of Freedom===\")\n",
    "print(dof)\n",
    "print(\"\\n\")\n",
    "print(\"===P-Value===\")\n",
    "print(p_val)\n",
    "print(\"\\n\")\n",
    "print(\"===Contingency Table===\")\n",
    "print(ex)"
   ]
  },
  {
   "cell_type": "markdown",
   "metadata": {},
   "source": [
    "### References \n",
    "\n",
    "1.  Wikipedia - Chi Square - https://en.wikipedia.org/w/index.php?title=Chi-squared_test&oldid=983024096\n",
    "2.  Towards Data Science - Chi Square for Independence - https://towardsdatascience.com/gentle-introduction-to-chi-square-test-for-independence-7182a7414a95 \n",
    "3.  Towards Data Science - Chi Square Test - https://towardsdatascience.com/running-chi-square-tests-in-python-with-die-roll-data-b9903817c51b\n",
    "4. Statistics How To - Chi Square - https://www.statisticshowto.com/probability-and-statistics/chi-square/\n"
   ]
  },
  {
   "cell_type": "markdown",
   "metadata": {},
   "source": [
    "## Task 3: \n",
    "***"
   ]
  },
  {
   "attachments": {
    "image.png": {
     "image/png": "[encoded data removed]"
    }
   },
   "cell_type": "markdown",
   "metadata": {},
   "source": [
    "<b> Research about standard deviation functions in Excel STDEV.P and STDEV.S, writing a note about the difference between them. Then use numpy to perform a simulation demonstrating that the STDEV.S calculation is a better estimate for sample.</b>\n",
    "\n",
    "\n",
    "The standard deviation is a measure of how widely values are dispersed from the average value (the mean)[1], the formula to calculate standar is the below [1,2]:  \n",
    "\n",
    "![image.png](attachment:image.png)\n",
    "\n",
    "\n",
    "### Difference between STDEV.P and STDEV.S\n",
    "\n",
    "The STDEV.P function is used when your data represents the entire population.The squared deviation is divided by the total number of arguments, mostly represented as <b>n</b> [1,2,3]].\n",
    "\n",
    "The STDEV.S function is used when your data is a sample of the entire population. The squared deviation is divided by the total number of sample -1. It is represented as <b>n-1</b>.\n",
    "\n",
    "Since STDEV.P function considers entire data, and some factors may dominate the result standard deviation. And since it will be taken as the standard deviation for everyone in data, even for minorities, this is called <b>Biased Analysis</b> (explained below). This is why this standard deviation is recommended to use only when an analysis is non-destructive. Don’t use STDEV.P if you haven’t captured the entire population for analysis.\n",
    "\n",
    "The STDEV.S or STDEV function is used on a small sample of the entire population, and we subtract one from the denominator (number of samples arguments). This is called <b>non-biassed analysis</b> of standard deviation. This is used when an analysis is destructive.\n",
    "\n",
    "A low measure of Standard Deviation indicates that the data are less spread out, whereas a high value of Standard Deviation shows that the data in a set are spread apart from their mean average values. A useful property of the standard deviation is that, unlike the variance, it is expressed in the same units as the data.\n",
    "\n",
    "\n",
    "### About Bessel´s Correction\n",
    "\n",
    "The calculations for both the sample standard deviation and the sample variance both contain a little bias (that’s the statistics way of saying “error”). Bessel’s correction (subtracting 1 from your sample size) corrects this bias. In other words, you’ll usually get a more accurate answer if you use n-1 instead of n [6].\n",
    "\n",
    "<b> So why do we subtract 1 when using these formulas? </b>\n",
    "\n",
    "When you have an entire population and calculate any parameter like the population standard deviation, your results will be accurate. That’s because you have all the data about your population. However, when you work with a sample, you’ve only got a small fraction of the population to work with. Therefore, your answers aren’t going to be as accurate as those you would have got, if you had the entire set of data to work with.\n",
    "\n",
    "In other words, sample calculations with n in the denominator are almost always going to be higher than calculations with n-1 in the denominator. When you subtract 1 from your sample size, it happens to turn out you’re making a fairly good adjustment for the deflated sum of squares figure as long as n isn’t huge.\n",
    "\n",
    "In the case of the sample variance & standard deviation, the particular statistic you are working with is the sample mean (x̄) instead of the population mean (μ). Any x-value in your sample is going to be closer to x̄ than to μ.\n",
    "\n",
    "This fact alters the sums of squares (in the numerator of the above formulas). The sum of squares for μ\n",
    "\n",
    "\\begin{equation}\n",
    "{\\sum\\limits_{i=1}^{n} \\left(x_{i} - \\bar{μ}\\right)^{2}} \\\\ \n",
    "\\end{equation}\n",
    "is going to be larger than the sum of squares for x̄.\n",
    "\\begin{equation}\n",
    "{\\sum\\limits_{i=1}^{n} \\left(x_{i} - \\bar{x̄}\\right)^{2}} \\\\ \n",
    "\\end{equation}\n",
    "\n",
    "For small sample sizes, Bessel’s correction is going to be quite severe. If you have a small sample, it’s highly unlikely that it’s going to be a very good estimate of the population mean anyway. If you have a very large sample size, you’re going to approach a point when your sample statistics are going to be almost equal to your population parameters. In that case, Bessel’s correction simply isn’t needed at all.\n",
    "\n",
    "### Demonstration: \n",
    "\n",
    "When you calculate statistics for an entire population (mean, variance, etc.) results are accurate because all data is available. However, when you calculate statistics for a sample, results are estimates and therefore not as accurate [5].\n",
    "\n",
    "In the graphic below, we can see an example of standard deviation and mean for a population of 1000, using samples of 5, 500 and 900 (calculation in following cell).   \n",
    "\n",
    "|   | Population | Mean   | Stdev.p (n) | Stdev.s (n-1) |\n",
    "|---|-----------:|--------|-------------|---------------|\n",
    "| 1 | 1000       | 0.5100 | 0.2879      | 0.2880        |\n",
    "| 2 | 5          | 0.5875 | 0.1126      | 0.1259        |\n",
    "| 3 | 500        | 0.5301 | 0.2887      | 0.2892        |\n",
    "| 4 | 900        | 0.5169 | 0.2882      | 0.2890        |\n",
    "\n",
    "Per the results, we can see in line 2, 3 and 4 that on average, samples of a Normally-distributed population will produce a variance which is biased downward by a factor of n-1 on average. Therefore, by dividing the square-rooted variance by n-1, we make the denominator smaller, thereby making the result larger and leading to a so-called ‘unbiased’ estimate. As summary, we can see the population standard deviation is slightly lower than sample standard deviation as the sample are not as accurate as the total of population [7]. \n",
    "\n",
    "We can observe in the line 1 where the sample is equal to the total population. The larger your sample, the more of an opportunity you have to run into more population-representative points, i.e. points that are close to the mean. Therefore, you have less of a chance of getting a sample mean which results in differences which are too small, leading to a too-small variance, and you’re left with an undershot standard deviation. In that case, Bessel’s correction simply isn’t needed at all.\n",
    "\n",
    "In some cases, Bessel’s Correction does seem to be helping. It makes sense: very often the sample standard deviation will be lower than the population standard deviation, especially if the sample is small, because unrepresentative points (‘biased’ points, i.e. farther from the mean) will have more of an impact on the calculation of variance. Because the difference between each data point and the sample mean is being squared, the range of possible differences will be smaller than the real range if the population mean was used. Furthermore, taking a square root is a concave function, and therefore introduces ‘downward bias’ in estimations.\n",
    "\n",
    "The key point to emphasize here is that Bessel’s Correction, or dividing by n-1, doesn’t always actually help! Because the potential sample-variances are themselves t-distributed, you will unwittingly run into cases where n-1 will overshoot the real population standard deviation. It just so happens that n-1 is the best tool we have to correct for bias most of the time.\n"
   ]
  },
  {
   "cell_type": "code",
   "execution_count": 8,
   "metadata": {},
   "outputs": [
    {
     "name": "stdout",
     "output_type": "stream",
     "text": [
      "Stdev.p formula is: 0.2850552688630637 0.3298685161289337 0.2833520690771445 0.2853815049067736\n",
      "Stdev.d formula is: 0.28519790348237883 0.36880421285064074 0.2838255064483595 0.285540536128315\n",
      "Mean formula is   : 0.5140019410200714 0.7446611104502181 0.4872450528994234 0.5103031667360779\n"
     ]
    }
   ],
   "source": [
    "# Import Numpy library \n",
    "import numpy as np\n",
    "\n",
    "#We will take a random total of 1000\n",
    "m = np.random.rand (1000)\n",
    "\n",
    "#Taking Samples of 5, 500 and 900\n",
    "n = m [:5]\n",
    "n1 = m [:300]\n",
    "n2 = m [:898]\n",
    "\n",
    "\n",
    "# Formula to calculate the Stdev.p using Numpy\n",
    "P1 = np.sqrt(np.sum((m - np.mean(m))**2)/len(m))\n",
    "P2 = np.sqrt(np.sum((n - np.mean(n))**2)/len(n))\n",
    "P3 = np.sqrt(np.sum((n1 - np.mean(n1))**2)/len(n1))\n",
    "P4 = np.sqrt(np.sum((n2 - np.mean(n2))**2)/len(n2))\n",
    "\n",
    "# Formula to calculate the Stdev.s using Numpy\n",
    "S1 = np.sqrt(np.sum((m - np.mean(m))**2)/(len(m)-1))\n",
    "S2 = np.sqrt(np.sum((n - np.mean(n))**2)/(len(n)-1))\n",
    "S3 = np.sqrt(np.sum((n1 - np.mean(n1))**2)/(len(n1)-1))\n",
    "S4 = np.sqrt(np.sum((n2 - np.mean(n2))**2)/(len(n2)-1))\n",
    "\n",
    "# Formula to calculate Mean using Numpy\n",
    "M1 = np.mean(m)\n",
    "M2 = np.mean(n)\n",
    "M3 = np.mean(n1)\n",
    "M4 = np.mean(n2)\n",
    "\n",
    "#Population of 1000 and samples of 5, 500 and 900\n",
    "print (\"Stdev.p formula is:\",P1,P2,P3,P4)\n",
    "print (\"Stdev.d formula is:\",S1,S2,S3,S4)\n",
    "print (\"Mean formula is   :\" , M1, M2, M3, M4)\n"
   ]
  },
  {
   "cell_type": "markdown",
   "metadata": {},
   "source": [
    "### Task 3\n",
    "\n",
    "1. Support Microsoft - Stdev S - https://support.microsoft.com/en-us/office/stdev-s-function-7d69cf97-0c1f-4acf-be27-f3e83904cc23\n",
    "2. Excel Tip - Stdev P - https://www.exceltip.com/statistical-formulas/how-to-use-excel-stdev-p-function.html#:~:text=Let's%20Explore.-,The%20STDEV.,sample%20of%20the%20entire%20population.\n",
    "3. Excel Tip - Stdev S - https://www.exceltip.com/statistical-formulas/how-to-use-stdev-s-function-in-excel.html\n",
    "4. Stackoverflow - Stdev using numpy - https://stackoverflow.com/questions/64884294/stdev-s-and-stdev-p-using-numpy\n",
    "5. Wikipedia - Bessels Correction - https://en.wikipedia.org/wiki/Bessel%27s_correction\n",
    "6. Statistics How To - Bessels Correction - https://www.statisticshowto.com/bessels-correction/\n",
    "7. Stack Exchange - N-1 in denominator - https://stats.stackexchange.com/questions/198452/why-sample-variance-has-has-n-1-in-the-denominator\n",
    "8. Towards Data Science - Bessels Correction - https://towardsdatascience.com/the-reasoning-behind-bessels-correction-n-1-eeea25ec9bc9\n",
    "9. Geeks for Geeks - Bessels Correction - https://www.geeksforgeeks.org/bessels-correction/\n",
    "10. Stack Exchange - Dividing N-1 - https://stats.stackexchange.com/questions/3931/intuitive-explanation-for-dividing-by-n-1-when-calculating-standard-deviation\n",
    "\n"
   ]
  },
  {
   "cell_type": "markdown",
   "metadata": {},
   "source": [
    "## Task 4: \n",
    "***"
   ]
  },
  {
   "cell_type": "markdown",
   "metadata": {},
   "source": [
    "<b> Use scikit-learn to apply k-means clustering and K Neighbors Classifier to Fisher’s famous Iris data set.</b>\n",
    "\n",
    "Scikit is a open source tool for data mining and data analysis built in Numpy, Scipy and Matplotlib.\n",
    "\n",
    "Clustering is an unsupervised learning method that allows us to group set of objects based on similar characteristics and K-means is one of the most common clustering algorithm. \n",
    "\n",
    "The k-nearest neighbors (KNN) algorithm is a simple, easy-to-implement supervised machine learning algorithm that can be used to solve both classification and regression problems.\n",
    "\n",
    "\n",
    "## Unsupervised Learning and K-Means\n",
    "\n",
    "Unsupervised learning is a type of machine learning that looks for previously undetected patterns in a data set with no pre-existing labels and with a minimum of human supervision. In contrast to supervised learning that usually makes use of human-labeled data, unsupervised learning, also known as self-organization allows for modeling of probability densities over inputs. It forms one of the three main categories of machine learning, along with supervised and reinforcement learning. Semi-supervised learning, a related variant, makes use of supervised and unsupervised techniques [5].\n",
    "\n",
    "Two of the main methods used in unsupervised learning are principal component and cluster analysis.Clustering is the task of partitioning a dataset into groups. The objective of clustering is to identify distinct groups in the dataset such that the observations within a group are similar to each other but different from observations in other groups. Clustering is often used to find patterns in unlabeled data which has no label [1,2].\n",
    "\n",
    "K-Means Algorithm is one of the simplest and most commonly used clustering algorithms. In k-means clustering, the algorithm attempts to group observations into k groups, with each group having roughly equal variance. The number of groups, k, is specified by the user as a hyperparameter.\n",
    "\n",
    "In scikit-learn, k-means clustering is implemented using the KMeans() class. When using this class, the user must specify the value of the hyperparameter k by setting the n_clusters parameter to an integer greater than 1 since the algorithm does not learn k by itself.\n",
    "\n",
    "The goal of K-Means clustering is the K number of centroids representing the centre of each cluster and a number to each data point, indicating which cluster a particular data point belongs to.\n",
    "\n",
    "\n",
    "<b>How the K-Means Algorithm Works?</b>\n",
    "\n",
    "The k-means algorithm can be summarized in the following five steps:\n",
    "\n",
    "1. Randomly pick K (predefined) number of centroids (cluster centres) from the data points as initial cluster centres.\n",
    "\n",
    "2. For each data point in the dataset, calculate the Euclidean distance between itself and each of the K centroids.\n",
    "\n",
    "3. Assign each data point to the closest cluster centre according to the distance measured in step 2. [After doing step 1, 2 and 3, the first iteration is completed and the points would be clustered.]\n",
    "\n",
    "4. Now take the average of all of the points in each cluster and reposition the centroids using the newly calculated average.\n",
    "\n",
    "5. Measure the distance between each of the old centroids and the new centroids.\n",
    "\n",
    "[If the distance is 0, that means that the centroids did not change their positions and hence the centroids are found. Otherwise, you repeat the steps 2, 3, 4 and 5 with the new centroids until all the centroids do not change position anymore (i.e. distance is 0).]\n",
    "\n",
    "The Euclidean distance between two data points (x and y) in an n-dimensional space is defined by the following formula. We use that distance to measure the similarity between data points in the K-Means Algorithm.\n",
    "\n",
    "\\begin{equation}\n",
    " d\\left( x,y\\right) = \\sqrt{{\\sum\\limits_{i=1}^{n} \\left(x_{i} - \\ y_{i}\\right)^{2}}} \\\\ \n",
    "\\end{equation}\n",
    "\n",
    "<b> Using Scikit-learn for K-Means Clustering </b>\n",
    "\n",
    "Now let’s work on an example to see how k-means clustering works and how to implement it using Scikit-learn. For this example, we have a dataset named iris which is a built-in dataset in Scikit-learn. The dataset contains four columns — sepal length, sepal width, petal length, and petal width measured in cm.\n",
    "\n",
    "\n",
    "The following steps describe the process of implementing k-means clustering to the dataset with Scikit-learn.\n",
    "\n"
   ]
  },
  {
   "cell_type": "code",
   "execution_count": 9,
   "metadata": {},
   "outputs": [],
   "source": [
    "# Import the libraries \n",
    "\n",
    "%matplotlib inline\n",
    "import numpy as np\n",
    "import pandas as pd\n",
    "import seaborn as sns\n",
    "import matplotlib.pyplot as plt\n",
    "\n",
    "plt.style.use ('ggplot')"
   ]
  },
  {
   "cell_type": "code",
   "execution_count": 10,
   "metadata": {},
   "outputs": [],
   "source": [
    "#Download the Irish Data Set\n",
    "df = pd.read_csv('IrisDataset.csv')"
   ]
  },
  {
   "cell_type": "code",
   "execution_count": 11,
   "metadata": {},
   "outputs": [
    {
     "data": {
      "text/html": [
       "<div>\n",
       "<style scoped>\n",
       "    .dataframe tbody tr th:only-of-type {\n",
       "        vertical-align: middle;\n",
       "    }\n",
       "\n",
       "    .dataframe tbody tr th {\n",
       "        vertical-align: top;\n",
       "    }\n",
       "\n",
       "    .dataframe thead th {\n",
       "        text-align: right;\n",
       "    }\n",
       "</style>\n",
       "<table border=\"1\" class=\"dataframe\">\n",
       "  <thead>\n",
       "    <tr style=\"text-align: right;\">\n",
       "      <th></th>\n",
       "      <th>sepal_length</th>\n",
       "      <th>sepal_width</th>\n",
       "      <th>petal_length</th>\n",
       "      <th>petal_width</th>\n",
       "      <th>species</th>\n",
       "    </tr>\n",
       "  </thead>\n",
       "  <tbody>\n",
       "    <tr>\n",
       "      <th>0</th>\n",
       "      <td>5.1</td>\n",
       "      <td>3.5</td>\n",
       "      <td>1.4</td>\n",
       "      <td>0.2</td>\n",
       "      <td>setosa</td>\n",
       "    </tr>\n",
       "    <tr>\n",
       "      <th>1</th>\n",
       "      <td>4.9</td>\n",
       "      <td>3.0</td>\n",
       "      <td>1.4</td>\n",
       "      <td>0.2</td>\n",
       "      <td>setosa</td>\n",
       "    </tr>\n",
       "    <tr>\n",
       "      <th>2</th>\n",
       "      <td>4.7</td>\n",
       "      <td>3.2</td>\n",
       "      <td>1.3</td>\n",
       "      <td>0.2</td>\n",
       "      <td>setosa</td>\n",
       "    </tr>\n",
       "    <tr>\n",
       "      <th>3</th>\n",
       "      <td>4.6</td>\n",
       "      <td>3.1</td>\n",
       "      <td>1.5</td>\n",
       "      <td>0.2</td>\n",
       "      <td>setosa</td>\n",
       "    </tr>\n",
       "    <tr>\n",
       "      <th>4</th>\n",
       "      <td>5.0</td>\n",
       "      <td>3.6</td>\n",
       "      <td>1.4</td>\n",
       "      <td>0.2</td>\n",
       "      <td>setosa</td>\n",
       "    </tr>\n",
       "  </tbody>\n",
       "</table>\n",
       "</div>"
      ],
      "text/plain": [
       "   sepal_length  sepal_width  petal_length  petal_width species\n",
       "0           5.1          3.5           1.4          0.2  setosa\n",
       "1           4.9          3.0           1.4          0.2  setosa\n",
       "2           4.7          3.2           1.3          0.2  setosa\n",
       "3           4.6          3.1           1.5          0.2  setosa\n",
       "4           5.0          3.6           1.4          0.2  setosa"
      ]
     },
     "execution_count": 11,
     "metadata": {},
     "output_type": "execute_result"
    }
   ],
   "source": [
    "#Review if the data is correct\n",
    "df.head()"
   ]
  },
  {
   "cell_type": "code",
   "execution_count": 12,
   "metadata": {},
   "outputs": [
    {
     "data": {
      "text/plain": [
       "<matplotlib.axes._subplots.AxesSubplot at 0x223664b3670>"
      ]
     },
     "execution_count": 12,
     "metadata": {},
     "output_type": "execute_result"
    },
    {
     "data": {
      "image/png": "[encoded data removed]",
      "text/plain": [
       "<Figure size 432x288 with 1 Axes>"
      ]
     },
     "metadata": {},
     "output_type": "display_data"
    }
   ],
   "source": [
    "# Visualize data\n",
    "sns.scatterplot(x='sepal_length', y='petal_length', data=df, s=60, color='green')\n"
   ]
  },
  {
   "cell_type": "code",
   "execution_count": 13,
   "metadata": {},
   "outputs": [],
   "source": [
    "# Build the model\n",
    "x = df [['sepal_length','petal_length']].values"
   ]
  },
  {
   "cell_type": "code",
   "execution_count": 14,
   "metadata": {},
   "outputs": [],
   "source": [
    "# Import KMeans() class which is in the cluster sub-module in Scikit-learn.\n",
    "from sklearn.cluster import KMeans"
   ]
  },
  {
   "cell_type": "markdown",
   "metadata": {},
   "source": [
    "The next step will be to create and train (fit) the model. When using the KMeans() class, the most important hyperparameter that we need to consider is the value of k (number of clusters) which is represented by the n_clusters parameter in the KMeans() class. The algorithm does not learn k by itself. If we set n_clusters=10, the algorithm happily returns 10 clusters and if n_clusters=25, the algorithm happily returns 25 clusters and so on. So, the data scientist’s responsibility is to choose the optimal number of clusters (k).\n",
    "\n",
    "For this dataset we will take 3 cluster."
   ]
  },
  {
   "cell_type": "code",
   "execution_count": 15,
   "metadata": {},
   "outputs": [
    {
     "data": {
      "text/plain": [
       "KMeans(n_clusters=3, random_state=42)"
      ]
     },
     "execution_count": 15,
     "metadata": {},
     "output_type": "execute_result"
    }
   ],
   "source": [
    "# Create the model using KMean class and taking as cluster for this data set \n",
    "model = KMeans (n_clusters = 3, random_state = 42)\n",
    "model"
   ]
  },
  {
   "cell_type": "code",
   "execution_count": 16,
   "metadata": {},
   "outputs": [
    {
     "data": {
      "text/plain": [
       "KMeans(n_clusters=3, random_state=42)"
      ]
     },
     "execution_count": 16,
     "metadata": {},
     "output_type": "execute_result"
    }
   ],
   "source": [
    "# Adapt model to the data \n",
    "model.fit(x)"
   ]
  },
  {
   "cell_type": "code",
   "execution_count": 17,
   "metadata": {},
   "outputs": [
    {
     "data": {
      "text/plain": [
       "array([[5.00784314, 1.49411765],\n",
       "       [5.87413793, 4.39310345],\n",
       "       [6.83902439, 5.67804878]])"
      ]
     },
     "execution_count": 17,
     "metadata": {},
     "output_type": "execute_result"
    }
   ],
   "source": [
    "# Get cluster centres (centroids)\n",
    "centroids = model.cluster_centers_\n",
    "centroids"
   ]
  },
  {
   "cell_type": "code",
   "execution_count": 18,
   "metadata": {},
   "outputs": [
    {
     "data": {
      "text/plain": [
       "array([0, 0, 0, 0, 0, 0, 0, 0, 0, 0, 0, 0, 0, 0, 0, 0, 0, 0, 0, 0, 0, 0,\n",
       "       0, 0, 0, 0, 0, 0, 0, 0, 0, 0, 0, 0, 0, 0, 0, 0, 0, 0, 0, 0, 0, 0,\n",
       "       0, 0, 0, 0, 0, 0, 2, 1, 2, 1, 1, 1, 1, 1, 1, 1, 1, 1, 1, 1, 1, 1,\n",
       "       1, 1, 1, 1, 1, 1, 1, 1, 1, 1, 2, 2, 1, 1, 1, 1, 1, 1, 1, 1, 1, 1,\n",
       "       1, 1, 1, 1, 1, 1, 1, 1, 1, 1, 0, 1, 2, 1, 2, 2, 2, 2, 1, 2, 2, 2,\n",
       "       2, 2, 2, 1, 1, 2, 2, 2, 2, 1, 2, 1, 2, 1, 2, 2, 1, 1, 2, 2, 2, 2,\n",
       "       2, 2, 2, 2, 2, 2, 1, 2, 2, 2, 1, 2, 2, 2, 1, 2, 2, 1])"
      ]
     },
     "execution_count": 18,
     "metadata": {},
     "output_type": "execute_result"
    }
   ],
   "source": [
    "# Assign each data point to cluster index (label)\n",
    "# From the output, we can see that the 1st data point belongs to cluster 0, the 150th data point belongs to cluster 2 and so on\n",
    "# We can also use model.predict(x) \n",
    "p = model.labels_\n",
    "p"
   ]
  },
  {
   "cell_type": "code",
   "execution_count": 19,
   "metadata": {},
   "outputs": [
    {
     "data": {
      "text/plain": [
       "<matplotlib.axes._subplots.AxesSubplot at 0x22366f7b6d0>"
      ]
     },
     "execution_count": 19,
     "metadata": {},
     "output_type": "execute_result"
    },
    {
     "data": {
      "image/png": "[encoded data removed]",
      "text/plain": [
       "<Figure size 432x288 with 1 Axes>"
      ]
     },
     "metadata": {},
     "output_type": "display_data"
    }
   ],
   "source": [
    "# Visualize the 3 cluster and their centroids marked as a star\n",
    "sns.scatterplot(x='sepal_length', y='petal_length', data=df, s=60, hue = model.labels_, palette = ['green', 'blue','orange'])\n",
    "sns.scatterplot(x=centroids[:,0], y=centroids[:,1], marker = '*', s=400, color = 'red')"
   ]
  },
  {
   "cell_type": "markdown",
   "metadata": {},
   "source": [
    "#### Clustering Performance Evaluation\n",
    "\n",
    "Evaluating the performance of a clustering algorithm is not as trivial as counting the number of errors or the precision and recall of a supervised classification algorithm. In particular any evaluation metric should not take the absolute values of the cluster labels into account but rather if this clustering define separations of the data similar to some ground truth set of classes or satisfying some assumption such that members belong to the same class are more similar than members of different classes according to some similarity metric [7,8].\n",
    "\n",
    "We have to take in consideration k-means is not a classification tool, therefore analyzing accuracy is not recomended as K-means is not for it. It is supposed to find a grouping of data which maximizes between-clusters distances, it does not use labeling to train.For maximization of accuracy there are other classifiers as K Neighbors Classifier, logistic regression, SVM, etc.\n",
    "\n",
    "In the example below we can have the assumption that a prediction belong to a class using Iris Dataset."
   ]
  },
  {
   "cell_type": "code",
   "execution_count": 20,
   "metadata": {},
   "outputs": [
    {
     "data": {
      "text/plain": [
       "0"
      ]
     },
     "execution_count": 20,
     "metadata": {},
     "output_type": "execute_result"
    }
   ],
   "source": [
    "# To calculate Accuracy Score for a Cluster\n",
    "from sklearn.metrics import accuracy_score\n",
    "y_pred = [3, 5, 4, 2]\n",
    "y_true = [5, 3, 1, 0]\n",
    "\n",
    "#In the results below we can see the flower group is the cluster 0 which are green \n",
    "accuracy_score(y_true, y_pred, normalize=False)"
   ]
  },
  {
   "cell_type": "markdown",
   "metadata": {},
   "source": [
    "<b>Adjusted Rand Index:</b> Given the knowledge of the ground truth class assignments labels_true and our clustering algorithm assignments of the same samples labels_pred, the adjusted Rand index is a function that measures the similarity of the two assignments, ignoring permutations and with chance normalization.\n",
    "\n",
    "The perfect score is 1 and a bad record or negative give 0 or less. Example below of Iris Dataset: "
   ]
  },
  {
   "cell_type": "code",
   "execution_count": 21,
   "metadata": {},
   "outputs": [
    {
     "name": "stdout",
     "output_type": "stream",
     "text": [
      "===Similarity of the labels: ===\n"
     ]
    },
    {
     "data": {
      "text/plain": [
       "0.7121079979749496"
      ]
     },
     "execution_count": 21,
     "metadata": {},
     "output_type": "execute_result"
    }
   ],
   "source": [
    "# Metrics to measure accuracy: \n",
    "\n",
    "from sklearn import metrics\n",
    "labels_true = [0, 0, 0, 0, 0, 0, 0, 0, 0, 0, 0, 0, 0, 0, 0, 0, 0, 0, 0, 0, 0, 0,\n",
    "       0, 0, 0, 0, 0, 0, 0, 0, 0, 0, 0, 0, 0, 0, 0, 0, 0, 0, 0, 0, 0, 0,\n",
    "       0, 0, 0, 0, 0, 0, 2, 1, 2, 1, 1, 1, 1, 1, 1, 1, 1, 1, 1, 1, 1, 1,\n",
    "       1, 1, 1, 1, 1, 1, 1, 1, 1, 1, 2, 2, 1, 1, 1, 1, 1, 1, 1, 1, 1, 1,\n",
    "       1, 1, 1, 1, 1, 1, 1, 1, 1, 1, 0, 1, 2, 1, 2, 2, 2, 2, 1, 2, 2, 2,\n",
    "       2, 2, 2, 1, 1, 2, 2, 2, 2, 1, 2, 1, 2, 1, 2, 2, 1, 1, 2, 2, 2, 2,\n",
    "       2, 2, 2, 2, 2, 2, 1, 2, 2, 2, 1, 2, 2, 2, 1, 2, 2, 1]\n",
    "labels_pred = [0, 0, 0, 0, 0, 0, 0, 0, 0, 0, 0, 0, 0, 0, 0, 0, 0, 0, 0, 0, 0, 0,\n",
    "       0, 0, 0, 0, 0, 0, 0, 0, 0, 0, 0, 0, 0, 0, 0, 0, 0, 0, 0, 0, 0, 0,\n",
    "       0, 0, 0, 0, 0, 0, 2, 1, 2, 1, 1, 1, 1, 1, 1, 1, 1, 1, 1, 1, 1, 1,\n",
    "       1, 1, 1, 1, 1, 1, 1, 1, 1, 1, 2, 2, 1, 1, 1, 1, 1, 1, 1, 1, 1, 1,\n",
    "       1, 1, 1, 1, 1, 1, 1, 1, 1, 1, 0, 1, 2, 1, 2, 2, 2, 2, 1, 2, 2, 2,\n",
    "       2, 2, 2, 1, 1, 2, 2, 2, 2, 1, 2, 1, 2, 1, 2, 2, 1, 1, 0, 0, 0, 0,\n",
    "       1, 1, 1, 1, 1, 1, 1, 1, 1, 1, 1, 1, 1, 1, 1, 1, 1, 1]\n",
    "\n",
    "print(\"===Similarity of the labels: ===\")\n",
    "\n",
    "metrics.adjusted_rand_score(labels_true, labels_pred)"
   ]
  },
  {
   "cell_type": "markdown",
   "metadata": {},
   "source": [
    "## Supervised Learning and K Nearest Neighbors"
   ]
  },
  {
   "cell_type": "markdown",
   "metadata": {},
   "source": [
    "In Supervised Learning, we have a dataset consisting of both features and labels. The task is to construct an estimator which is able to predict the label of an object given the set of features. A relatively simple example is predicting the species of iris given a set of measurements of its flower [4,6]. Some more complicated examples are:\n",
    "\n",
    "- given a multicolor image of an object through a telescope, determine whether that object is a star, a quasar, or a galaxy.\n",
    "- given a photograph of a person, identify the person in the photo.\n",
    "- given a list of movies a person has watched and their personal rating of the movie, recommend a list of movies they would like (So-called recommender systems: a famous example is the Netflix Prize).\n",
    "\n",
    "What these tasks have in common is that there is one or more unknown quantities associated with the object which needs to be determined from other observed quantities.\n",
    " \n",
    "Supervised learning is further broken down into two categories, classification and regression. In classification, the label is discrete, while in regression, the label is continuous. For example, in astronomy, the task of determining whether an object is a star, a galaxy, or a quasar is a classification problem: the label is from three distinct categories. On the other hand, we might wish to estimate the age of an object based on such observations: this would be a regression problem, because the label (age) is a continuous quantity.\n",
    "\n",
    "For classification, <b> K nearest neighbors (kNN) </b> is one of the simplest learning strategies: given a new, unknown observation, look up in your reference database which ones have the closest features and assign the predominant class. Let’s try it out on our iris classification problem:"
   ]
  },
  {
   "cell_type": "code",
   "execution_count": 22,
   "metadata": {},
   "outputs": [
    {
     "name": "stdout",
     "output_type": "stream",
     "text": [
      "===Prediction: The iris flower that has 3cm x 5cm sepal and 4cm x 2cm petal is: ===\n",
      "['versicolor']\n",
      "===Prediction accuracy: ===\n",
      "0.9666666666666667\n"
     ]
    }
   ],
   "source": [
    "# Import Library and load the dataset\n",
    "from  sklearn import  datasets\n",
    "iris=datasets.load_iris()\n",
    "\n",
    "# Assign data and target to separate variables\n",
    "x=iris.data\n",
    "y=iris.target\n",
    "\n",
    "#Build the model\n",
    "\n",
    "from sklearn import neighbors\n",
    "classifier=neighbors.KNeighborsClassifier()\n",
    "\n",
    "#Train the model\n",
    "classifier.fit(x, y)\n",
    "\n",
    "# Make predictions:\n",
    "predictions=classifier.predict(x)\n",
    "print(\"===Prediction: The iris flower that has 3cm x 5cm sepal and 4cm x 2cm petal is: ===\")\n",
    "print(iris.target_names[classifier.predict([[3, 5, 4, 2]])])\n",
    "\n",
    "# These predictions can be matched with the expected output to measure the accuracy value.\n",
    "from sklearn.metrics import accuracy_score\n",
    "print(\"===Prediction accuracy: ===\")\n",
    "print(accuracy_score(y,predictions))\n"
   ]
  },
  {
   "cell_type": "markdown",
   "metadata": {},
   "source": [
    "#### Plotting  nearest neighbor decision on Iris, with a single nearest neighbor"
   ]
  },
  {
   "cell_type": "code",
   "execution_count": 23,
   "metadata": {},
   "outputs": [],
   "source": [
    "# Import libraries\n",
    "import numpy as np\n",
    "from matplotlib import pyplot as plt\n",
    "from sklearn import neighbors, datasets\n",
    "from matplotlib.colors import ListedColormap\n",
    "\n",
    "# Create color maps for 3-class classification problem, as with iris\n",
    "cmap_light = ListedColormap(['#FFAAAA', '#AAFFAA', '#AAAAFF'])\n",
    "cmap_bold = ListedColormap(['#FF0000', '#00FF00', '#0000FF'])\n",
    "\n",
    "#Download Dataset\n",
    "iris = datasets.load_iris()\n",
    "X = iris.data[:, :2]  # we only take the first two features. We could\n",
    "                    # avoid this ugly slicing by using a two-dim dataset\n",
    "y = iris.target\n",
    "\n",
    "# Building the model\n",
    "knn = neighbors.KNeighborsClassifier(n_neighbors=1)\n",
    "knn.fit(X, y)\n",
    "\n",
    "x_min, x_max = X[:, 0].min() - .1, X[:, 0].max() + .1\n",
    "y_min, y_max = X[:, 1].min() - .1, X[:, 1].max() + .1\n",
    "xx, yy = np.meshgrid(np.linspace(x_min, x_max, 100),\n",
    "                        np.linspace(y_min, y_max, 100))\n",
    "# Predict\n",
    "Z = knn.predict(np.c_[xx.ravel(), yy.ravel()])"
   ]
  },
  {
   "cell_type": "code",
   "execution_count": 24,
   "metadata": {},
   "outputs": [
    {
     "data": {
      "text/plain": [
       "(4.2, 8.0, 1.9, 4.5)"
      ]
     },
     "execution_count": 24,
     "metadata": {},
     "output_type": "execute_result"
    },
    {
     "data": {
      "image/png": "[encoded data removed]",
      "text/plain": [
       "<Figure size 432x288 with 1 Axes>"
      ]
     },
     "metadata": {},
     "output_type": "display_data"
    }
   ],
   "source": [
    "# Plot\n",
    "Z = Z.reshape(xx.shape)\n",
    "plt.figure()\n",
    "plt.pcolormesh(xx, yy, Z, cmap=cmap_light)\n",
    "\n",
    "# Plot also the training points\n",
    "plt.scatter(X[:, 0], X[:, 1], c=y, cmap=cmap_bold)\n",
    "plt.xlabel('sepal length (cm)')\n",
    "plt.ylabel('sepal width (cm)')\n",
    "plt.axis('tight')"
   ]
  },
  {
   "cell_type": "markdown",
   "metadata": {},
   "source": [
    "### References \n",
    "\n",
    "1. Medium - Predicting Irish Flowers -https://medium.com/@belen.sanchez27/predicting-iris-flower-species-with-k-means-clustering-in-python-f6e46806aaee\n",
    "2. Rukshanpramoditha - K-means clustering - https://rukshanpramoditha.medium.com/k-means-clustering-with-scikit-learn-e2af706450e4\n",
    "3. Real Python - K-Means Clustering - https://realpython.com/k-means-clustering-python/\n",
    "4. Medium - Machine Learning Iris - https://medium.com/@jebaseelanravi96/machine-learning-iris-classification-33aa18a4a983\n",
    "5. Wikipedia - Unsupervised Learning - https://en.wikipedia.org/wiki/Unsupervised_learning\n",
    "6. Scipy - Lectures - http://scipy-lectures.org/packages/scikit-learn/index.html\n",
    "7. Scikit-learn - Metrics Accuracy - https://scikit-learn.org/stable/modules/generated/sklearn.metrics.accuracy_score.html\n",
    "8. Scikit-learn - Clustering Metrics - https://scikit-learn.org/stable/modules/classes.html#clustering-metrics\n",
    "9. Scikit-learn - Clustering Performance - https://scikit-learn.org/stable/modules/clustering.html#clustering-performance-evaluation![image.png](attachment:image.png)"
   ]
  }
 ],
 "metadata": {
  "kernelspec": {
   "display_name": "Python 3",
   "language": "python",
   "name": "python3"
  },
  "language_info": {
   "codemirror_mode": {
    "name": "ipython",
    "version": 3
   },
   "file_extension": ".py",
   "mimetype": "text/x-python",
   "name": "python",
   "nbconvert_exporter": "python",
   "pygments_lexer": "ipython3",
   "version": "3.8.3"
  }
 },
 "nbformat": 4,
 "nbformat_minor": 4
}
