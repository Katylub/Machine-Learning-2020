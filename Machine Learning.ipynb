{
 "cells": [
  {
   "cell_type": "markdown",
   "metadata": {},
   "source": [
    "# Machine Learning and Statistic\n",
    "***"
   ]
  },
  {
   "cell_type": "markdown",
   "metadata": {},
   "source": [
    "# Introduction\n",
    "***"
   ]
  },
  {
   "cell_type": "markdown",
   "metadata": {},
   "source": [
    "This document have been created to complete Machine Learning and Stadistic tasks assesment using Python and Jupyter Notebook. \n",
    "\n",
    "This project will be separated in four different tasks which contain information about the requested assessment and demonstration in each section."
   ]
  },
  {
   "cell_type": "markdown",
   "metadata": {},
   "source": [
    "# Task 1: \n",
    "***"
   ]
  },
  {
   "cell_type": "markdown",
   "metadata": {},
   "source": [
    "<b>Write a Python function called sqrt2 that calculates and prints to the screen the square root of 2 to 100 decimal places. </b>\n",
    "\n",
    "We can calculate the square number of a root using Babylonian method, which sometimes is called Hero's method after the first-century Greek mathematician Hero of Alexandria who gave the first explicit description of the method in his work Metrica [1,2]. The formula is  derived from (but predates) Newton–Raphson method and can be represented as below:\n",
    "\n",
    "\\begin{equation}\n",
    "\\ x_{n+1} = \\frac{1}{2} \\left(x_n + \\frac{S}{x_n}\\right) \\\\\n",
    "\\text{ Where x is our initial guess of} \\sqrt {S}\n",
    "\\end{equation}\n",
    "\n",
    "\n",
    "\n",
    "### About Babylonian Method \n",
    "\n",
    "The iterative method is called the Babylonian method for finding square roots. It was known to the ancient Babylonians (1500 BC) and Greeks (100 AD) long before Newton invented his general procedure.[3]\n",
    "\n",
    "Here's how it works. Suppose you are given any positive number $S$. To find the square root of $S$, do the following:\n",
    "\n",
    "1. Make an initial guess. Guess any positive number $x_{0}$.\n",
    "2. Improve the guess. Apply the formula \n",
    "$x_{1} = (x_{0} + S / x_{0}) / 2$. The average number $x_{1}$ calculated is a better approximation to sqrt($S$). \n",
    "3. Iterate until convergence. Apply the formula $x_{n+1} = (x_{n} + S / x_{n}) / 2$ until the process converges. Convergence is achieved when the digits of $x_{n+1}$ and $x_{n}$ agree to as many decimal places as you desire.\n",
    "\n",
    "### Demonstration\n",
    "\n",
    "The idea is simple, starting from an arbitrary value of x, and y as 1, we can simply get next approximation of root by finding the average of x and y. Then the y value will be updated with  number / x [1,4].\n",
    "\n",
    "We have to take in consideration, the floating point result is not represented exactly in Python because computers operate in base 2 (binary) while natural floating point numbers are in base 10 (decimal) [5]. In the example below we can see an example on this."
   ]
  },
  {
   "cell_type": "code",
   "execution_count": 2,
   "metadata": {},
   "outputs": [],
   "source": [
    "# Define the function to calculate the square root of a number n\n",
    "\n",
    "def square_root_2(n): \n",
    "  \n",
    "    # Use x as initial approximation (1)\n",
    "        x = n \n",
    "    # Initialize (2)\n",
    "        y = 1          \n",
    "    # e decides the accuracy level \n",
    "        e = 0.000001\n",
    "    # Create condition for accuracy and calculate the better guess (3)\n",
    "        while(x - y > e): \n",
    "    # Get the next approximation for root using average of x and y\n",
    "            x = (x + y)/2\n",
    "            y = n / x \n",
    "    # Return the (approximate) square root of x.\n",
    "        return x\n",
    "     "
   ]
  },
  {
   "cell_type": "code",
   "execution_count": 3,
   "metadata": {},
   "outputs": [
    {
     "data": {
      "text/plain": [
       "'1.4142135623746898698271934335934929549694061279296875000000000000000000000000000000000000000000000000'"
      ]
     },
     "execution_count": 3,
     "metadata": {},
     "output_type": "execute_result"
    }
   ],
   "source": [
    "#Ask for square root of 2 and print 100 decimals [5]. As mentioned the results do not provide all the floating points.\n",
    "\"{0:.100f}\".format(square_root_2(2))"
   ]
  },
  {
   "cell_type": "markdown",
   "metadata": {},
   "source": [
    "In order to <b> produce the square root of 2 with 100 decimal places</b>, the algorithm is similar but in this case will be necessary to multiply by powers of ten to give the result as integers [7, 8].\n",
    "\n",
    "In this case, in order to get 100 decimal places, the $S$ will be the number we want to find which is 2 multiplied to the order of $ 100^{100} $. \n",
    "\n",
    "The result will be the square root of 2 with 101 integers, after that will be necessary return the answer as string and concatenate to see the floating point [8].\n"
   ]
  },
  {
   "cell_type": "code",
   "execution_count": 12,
   "metadata": {},
   "outputs": [],
   "source": [
    "def sqrt2():\n",
    "    \n",
    "    # Number that you want to find the square root of \n",
    "    num = 2\n",
    "    S = num * 100 ** 100\n",
    "    # Create condition for accuracy and calculate the better guess (3)\n",
    "    xn = S//2\n",
    "    while S - (xn**2) < 0:\n",
    "    # Get the next approximation for root \n",
    "        xn = (xn + S//xn)//2    \n",
    "    xn = (str(xn))\n",
    "    # Result as string \n",
    "    return(xn[0] + \".\" + xn[1:])"
   ]
  },
  {
   "cell_type": "code",
   "execution_count": 13,
   "metadata": {},
   "outputs": [
    {
     "data": {
      "text/plain": [
       "'1.4142135623730950488016887242096980785696718753769480731766797379907324784621070388503875343276415727'"
      ]
     },
     "execution_count": 13,
     "metadata": {},
     "output_type": "execute_result"
    }
   ],
   "source": [
    "#The result is the square root of 2 with 100 decimal places\n",
    "sqrt2()"
   ]
  },
  {
   "cell_type": "markdown",
   "metadata": {},
   "source": [
    "### References \n",
    "\n",
    "1. GeeksforGeeks - Babylonian Method - https://www.geeksforgeeks.org/square-root-of-a-perfect-square/ \n",
    "2. Wikipedia -Baylonian Method https://en.wikipedia.org/wiki/Methods_of_computing_square_roots#Babylonian_method \n",
    "3. Blog SAS - Babylonian Method - https://blogs.sas.com/content/iml/2016/05/16/babylonian-square-roots.html \n",
    "4. Github Ian - Playing with Jupiter - https://github.com/ianmcloughlin/playing-with-jupyter/blob/main/playing-with-jupyter.ipynb \n",
    "5. GeeksforGeeks - Precision handling Python - https://www.geeksforgeeks.org/precision-handling-python/ \n",
    "6. Python Tutorial - Floating Point - https://docs.python.org/3/tutorial/floatingpoint.html\n",
    "7. Stackoverflow - Create decimal in Python - https://stackoverflow.com/questions/64278117/is-there-a-way-to-create-more-decimal-points-on-python-without-importing-a-libra\n",
    "8. GMIT - Student Forum Square Root - https://learnonline.gmit.ie/mod/forum/discuss.php?d=6033  "
   ]
  },
  {
   "cell_type": "markdown",
   "metadata": {},
   "source": [
    "\n",
    "# Task 2: \n",
    "***"
   ]
  },
  {
   "cell_type": "markdown",
   "metadata": {},
   "source": [
    "<b>Use scipy.stats to verify the Chi-squared value of the table below it is approximately 24.6 and and calculate the associated p value.</b>\n",
    "\n",
    "\n",
    "The Chi-squared test for independence is a statistical hypothesis test like a t-test. It is used to analyse whether two categorical variables are independent. In order to find Chi-square, we are going to use the SciPy package. SciPy is a Python-based open-source software for mathematics, science, and engineering [7, 8].\n",
    "\n",
    "\n",
    "|              | A   | B   | C   | D   | Total |\n",
    "|-------------:|-----|-----|-----|-----|-------|\n",
    "| White Collar | 90  | 60  | 104 | 95  | 349   |\n",
    "| Blue Collar  | 30  | 50  | 51  | 20  | 151   |\n",
    "| No Collar    | 30  | 40  | 45  | 35  | 150   |\n",
    "|------------- |-----|-----|-----|-----|-------|\n",
    "| Total        | 150 | 150 | 200 | 150 | 650   |\n",
    "    \n",
    "    \n",
    " ### About Chi-Square\n",
    "\n",
    "The Chi-square test for independence is also called Pearson’s chi-square test. Chi-square test for independence is used in science, economics, marketing, or other various fields. There are three ways to use the Chi-square. The Chi-square test for independence shows how two sets of data are independent of each other. Chi-square of the Goodness-of-fit test shows how different your data to the expected value. The test for homogeneity determines if two or more populations have the same distribution of a single categorical variable [8,9,10].\n",
    "\n",
    "In the section below we will implement an example of Chi-square test for independence which compares two variables in a contingency table to see if they are related. In a more general sense, it tests to see whether distributions of categorical variables differ from each another.\n",
    "\n",
    "- A very small chi square test statistic means that your observed data fits your expected data extremely well. In other words, there is a relationship.\n",
    "\n",
    "- A very large chi square test statistic means that the data does not fit very well. In other words, there isn’t a relationship.\n",
    "\n",
    "The formula for the chi-square statistic used in the chi square test is:\n",
    "\n",
    "\\begin{equation}\n",
    "\\chi^2=\\Sigma\\frac{(O-E)^2}{E} \\\\\n",
    "\\text{where O is the actual value and E is the expected value.}\n",
    "\\end{equation}\n",
    "\n",
    "A chi-square statistic is one way to show a relationship between two categorical variables. In statistics, there are two types of variables: numerical (countable) variables and non-numerical (categorical) variables. The chi-squared statistic is a single number that tells you how much difference exists between your observed counts and the counts you would expect if there were no relationship at all in the population.\n",
    "\n",
    "A low value for chi-square means there is a high correlation between your two sets of data. In theory, if your observed and expected values were equal (“no difference”) then chi-square would be zero — an event that is unlikely to happen in real life. Deciding whether a chi-square test statistic is large enough to indicate a statistically significant difference isn’t as easy it seems. It would be nice if we could say a chi-square test statistic >10 means a difference, but unfortunately that isn’t the case.\n",
    "\n",
    "To evaluate the difference you could use a p-value. First state the null hypothesis and the alternate hypothesis. Then generate a chi-square curve for your results along with a p-value. Small p-values (under 5%) usually indicate that a difference is significant (or “small enough”).\n",
    "\n",
    "<b>Using Chi Square P-Values</b>\n",
    "\n",
    "A chi square test will give you a p-value. The p-value will tell you if your test results are significant or not. In order to perform a chi square test and get the p-value, you need two pieces of information:\n",
    "\n",
    "\n",
    "1. Degrees of freedom: You can find the degree of freedom in the third returned value when you use SciPy. The degree of freedom is used to find the p-value. The way you find the degree of freedom (dof) for 𝜒2 for independence is dof = (the number of rows - 1) X (The number of columns - 1)\n",
    "\n",
    "\n",
    "2. The alpha level(α). This is chosen by you, or the researcher. The usual alpha level is 0.05 (5%), but you could also have other levels like 0.01 or 0.10.\n",
    "\n",
    "### Demonstration\n",
    "\n",
    "In the example below we demostrated that the Chi-square of the table above is approximately 24.6 and we can see the P-Value is 0.00041 which is lower than 0.01 which is one of the usual alpha level, therefore we reject the null hypothesis of independence and accept that the variables have a relation. \n",
    "\n",
    "Finally, the array at the end of the output is the contingency table (also called crosstab) with expected values based on all of our samples. Is used in statistics to summarise the relationship between several categorical variables and in our example we can see that blue collar and no collar have similar distribution and the white collar have higher values. \n",
    "\n",
    "See below steps to calculate the Chi-Square of the table requested:"
   ]
  },
  {
   "cell_type": "code",
   "execution_count": 9,
   "metadata": {},
   "outputs": [],
   "source": [
    "# We add the data using Numpy dataframe and we will store our data in the table in a variable called collars[9].\n",
    "\n",
    "import numpy as np\n",
    "\n",
    "a1 = [90, 60, 104, 95]\n",
    "a2 = [30, 50, 51, 20]\n",
    "a3 = [30, 40, 45, 35]\n",
    "\n",
    "collars = np.array([a1, a2, a3])"
   ]
  },
  {
   "cell_type": "code",
   "execution_count": 10,
   "metadata": {},
   "outputs": [
    {
     "name": "stdout",
     "output_type": "stream",
     "text": [
      "===Chi2 Stat===\n",
      "24.5712028585826\n",
      "\n",
      "\n",
      "===Degrees of Freedom===\n",
      "6\n",
      "\n",
      "\n",
      "===P-Value===\n",
      "0.0004098425861096696\n",
      "\n",
      "\n",
      "===Contingency Table===\n",
      "[[ 80.53846154  80.53846154 107.38461538  80.53846154]\n",
      " [ 34.84615385  34.84615385  46.46153846  34.84615385]\n",
      " [ 34.61538462  34.61538462  46.15384615  34.61538462]]\n"
     ]
    }
   ],
   "source": [
    "# Using SciPy’s chi2_contingency() we will get four values, 𝜒2 value, p-value, degree of freedom and expected values. \n",
    "# The data is represented in a easy to read code as SciPy give the data not organised [9]. \n",
    "\n",
    "from scipy import stats\n",
    "stats.chi2_contingency(collars)\n",
    "\n",
    "chi2_stat, p_val, dof, ex = stats.chi2_contingency(collars)\n",
    "print(\"===Chi2 Stat===\")\n",
    "print(chi2_stat)\n",
    "print(\"\\n\")\n",
    "print(\"===Degrees of Freedom===\")\n",
    "print(dof)\n",
    "print(\"\\n\")\n",
    "print(\"===P-Value===\")\n",
    "print(p_val)\n",
    "print(\"\\n\")\n",
    "print(\"===Contingency Table===\")\n",
    "print(ex)"
   ]
  },
  {
   "cell_type": "markdown",
   "metadata": {},
   "source": [
    "### References \n",
    "\n",
    "7.  Wikipedia - Chi Square - https://en.wikipedia.org/w/index.php?title=Chi-squared_test&oldid=983024096\n",
    "8.  Towards Data Science - Chi Square for Independence - https://towardsdatascience.com/gentle-introduction-to-chi-square-test-for-independence-7182a7414a95 \n",
    "9.  Towards Data Science - Chi Square Test - https://towardsdatascience.com/running-chi-square-tests-in-python-with-die-roll-data-b9903817c51b\n",
    "10. Statistics How To - Chi Square - https://www.statisticshowto.com/probability-and-statistics/chi-square/\n"
   ]
  },
  {
   "cell_type": "markdown",
   "metadata": {},
   "source": [
    "## Task 3: \n",
    "***"
   ]
  },
  {
   "cell_type": "markdown",
   "metadata": {},
   "source": [
    "<b> Research about standard deviation functions in Excel STDEV.P and STDEV.S, writing a note about the difference between them. Then use numpy to perform a simulation demonstrating that the STDEV.S calculation is a better estimate for sample.</b>\n",
    "\n",
    "The standard deviation is a measure of how widely values are dispersed from the average value (the mean)[11], the formula to calculate standar is the below [11,12]:  \n",
    "\n",
    "\\begin{equation}\n",
    "\\sigma = \\sqrt{\\frac{\\sum\\limits_{i=1}^{n} \\left(x_{i} - \\bar{x}\\right)^{2}} {n-1}} \\\\ \n",
    "\\text{Where x is the sample mean average and n is the sample size for entire population and will be n-1 for a sample of population.}\n",
    "\\end{equation}\n",
    "\n",
    "\n",
    "\n",
    "### Difference between STDEV.P and STDEV.S\n",
    "\n",
    "The STDEV.P function is used when your data represents the entire population.The squared deviation is divided by the total number of arguments, mostly represented as <b>n</b>.\n",
    "\n",
    "The STDEV.S function is used when your data is a sample of the entire population. The squared deviation is divided by the total number of sample -1. It is represented as <b>n-1</b>.\n",
    "\n",
    "Since STDEV.P function considers entire data, and some factors may dominate the result standard deviation. And since it will be taken as the standard deviation for everyone in data, even for minorities, this is called <b>Biased Analysis</b> . This is why this standard deviation is recommended to use only when an analysis is non-destructive. Don’t use STDEV.P if you haven’t captured the entire population for analysis.\n",
    "\n",
    "The STDEV.S or STDEV function is used on a small sample of the entire population, and we subtract one from the denominator (number of samples arguments). This is called <b>non-biassed analysis</b> of standard deviation. This is used when an analysis is destructive.\n",
    "\n",
    "A low measure of Standard Deviation indicates that the data are less spread out, whereas a high value of Standard Deviation shows that the data in a set are spread apart from their mean average values. A useful property of the standard deviation is that, unlike the variance, it is expressed in the same units as the data.\n",
    "\n",
    "\n",
    "### About Bessel´s Correction\n",
    "\n",
    "The calculations for both the sample standard deviation and the sample variance both contain a little bias (that’s the statistics way of saying “error”). Bessel’s correction (subtracting 1 from your sample size) corrects this bias. In other words, you’ll usually get a more accurate answer if you use n-1 instead of n.\n",
    "\n",
    "\n",
    "<b> So why do we subtract 1 when using these formulas? </b>\n",
    "\n",
    "When you have an entire population and calculate any parameter like the population standard deviation, your results will be accurate. That’s because you have all the data about your population. However, when you work with a sample, you’ve only got a small fraction of the population to work with. Therefore, your answers aren’t going to be as accurate as those you would have got, if you had the entire set of data to work with.\n",
    "\n",
    "In other words, sample calculations with n in the denominator are almost always going to be higher than calculations with n-1 in the denominator. When you subtract 1 from your sample size, it happens to turn out you’re making a fairly good adjustment for the deflated sum of squares figure as long as n isn’t huge.\n",
    "\n",
    "In the case of the sample variance & standard deviation, the particular statistic you are working with is the sample mean (x̄) instead of the population mean (μ). Any x-value in your sample is going to be closer to x̄ than to μ.\n",
    "\n",
    "This fact alters the sums of squares (in the numerator of the above formulas). The sum of squares for μ\n",
    "\n",
    "\\begin{equation}\n",
    "{\\sum\\limits_{i=1}^{n} \\left(x_{i} - \\bar{μ}\\right)^{2}} \\\\ \n",
    "\\end{equation}\n",
    "is going to be larger than the sum of squares for x̄.\n",
    "\\begin{equation}\n",
    "{\\sum\\limits_{i=1}^{n} \\left(x_{i} - \\bar{x̄}\\right)^{2}} \\\\ \n",
    "\\end{equation}\n",
    "\n",
    "For small sample sizes, Bessel’s correction is going to be quite severe. If you have a small sample, it’s highly unlikely that it’s going to be a very good estimate of the population mean anyway. If you have a very large sample size, you’re going to approach a point when your sample statistics are going to be almost equal to your population parameters. In that case, Bessel’s correction simply isn’t needed at all.\n",
    "\n",
    "### Demonstration: \n",
    "\n",
    "When you calculate statistics for an entire population (mean, variance, etc.) results are accurate because all data is available. However, when you calculate statistics for a sample, results are estimates and therefore not as accurate [15].\n",
    "\n",
    "We will use the example below to demostrated the STDEV.S calculation is a better estimate for the standard deviation when performed on a sample. [14]\n",
    "\n",
    "\n",
    "|              | Population   | Sample   | Stdev.s (n-1)   | Stedev.p (n)   | Total |\n",
    "|-------------:|--------------|----------|---------      --|---    ---------|-------|\n",
    "| Example 1    | 10           | 5        | 0.241726  2 | 0.3655045  | 349   |\n",
    "| Example 2    | 1000         | 5        | 0.1736222 | 00.293085  | 349   |\n",
    "| Example 3    | 10000        | 5        | 0.3049194 | 0.2896534  | 349   |\n",
    "|------------- |-----|-----|-----|-----|-------|\n",
    "| Total        | 150 | 150 | 200 | 150 | 650   |\n",
    "\n",
    "\n",
    "\n",
    "ForIn the graphic above, we can see an example of standard deviation for different sizes population, using as sample 5 of their elements. \n",
    "\n",
    "To put it simply (n−1) is a smaller number than (n). When you divide by a smaller number you get a larger number. Therefore when you divide by (n−1) the sample variance will work out to be a larger number.\n",
    "\n",
    "Let's think about what a larger vs. smaller sample variance means. If the sample variance is larger than there is a greater chance that it captures the true population variance. That is why when you divide by (n−1) we call that an unbiased sample estimate. Whereas dividing by (n) is called a biased sample estimate.\n",
    "\n",
    "Because we are trying to reveal information about a population by calculating the variance from a sample set we probably do not want to underestimate the variance. Basically by just dividing by (n) we are underestimating the true population variance, that is why it is called a biased estimate.\n",
    "\n",
    "Basically comes down to calculating a biased vs. unbiased sample variance estimate.\n",
    "\n"
   ]
  },
  {
   "cell_type": "code",
   "execution_count": 137,
   "metadata": {},
   "outputs": [
    {
     "name": "stdout",
     "output_type": "stream",
     "text": [
      "The Standard Deviation for Total Population using stdev.p formula is: 0.3075710725807117\n",
      "The Standard Deviation for Total Population using stdev.s formula is: 0.2941982262631964\n",
      "The Standard Deviation for Total Population using stdev.s formula is: 0.28711971420530796\n"
     ]
    }
   ],
   "source": [
    "#For a total population of 20 we will calculate the Standard variation using both formulas \n",
    "\n",
    "# Import Numpy library \n",
    "import numpy as np\n",
    "\n",
    "# We define the array with 20 random numbers\n",
    "x = np.random.rand(10)\n",
    "x1 = np.random.rand(1000)\n",
    "x2 = np.random.rand(10000)\n",
    "\n",
    "# Formula to calculate the Stdev.p using Numpy\n",
    "E1 = np.sqrt(np.sum((x - np.mean(x))**2)/len(x))\n",
    "\n",
    "# Formula to calculate the Stdev.s using Numpy\n",
    "E2 = np.sqrt(np.sum((x1 - np.mean(x1))**2)/len(x1))\n",
    "\n",
    "# Formula to calculate the Stdev.s using Numpy\n",
    "E3 = np.sqrt(np.sum((x2 - np.mean(x2))**2)/len(x2))\n",
    "\n",
    "print (\"The Standard Deviation for Total Population using stdev.p formula is:\" , E1)\n",
    "print (\"The Standard Deviation for Total Population using stdev.s formula is:\" , E2)\n",
    "print (\"The Standard Deviation for Total Population using stdev.s formula is:\" , E3)"
   ]
  },
  {
   "cell_type": "code",
   "execution_count": 138,
   "metadata": {},
   "outputs": [
    {
     "name": "stdout",
     "output_type": "stream",
     "text": [
      "The Standard Deviation for a sample of Population using stdev.p formula is: 0.3028317868191646\n",
      "The Standard Deviation for a sample of Population using stdev.s formula is: 0.35429082014239954\n",
      "The Standard Deviation for a sample of Population using stdev.s formula is: 0.2646335982687606\n"
     ]
    }
   ],
   "source": [
    "#For the total population of the examples above, we will take 9 random samples to calculate standard using both formulas \n",
    "\n",
    "#Array with 5 samples\n",
    "y =  np.random.rand(x.size - 5)\n",
    "y1 = np.random.rand(x1.size - 995)\n",
    "y2 = np.random.rand(x2.size - 9995)\n",
    "\n",
    "# Formula to calculate the Stdev.s using Numpy\n",
    "S1 = np.sqrt(np.sum((y - np.mean(y))**2)/(len(y)-1))\n",
    "\n",
    "# Formula to calculate the Stdev.s using Numpy\n",
    "S2 = np.sqrt(np.sum((y1 - np.mean(y1))**2)/(len(y1)-1))\n",
    "\n",
    "# Formula to calculate the Stdev.s using Numpy\n",
    "S3 = np.sqrt(np.sum((y2 - np.mean(y2))**2)/(len(y2)-1))\n",
    "\n",
    "print (\"The Standard Deviation for a sample of Population using stdev.p formula is:\" , S1)\n",
    "print (\"The Standard Deviation for a sample of Population using stdev.s formula is:\" , S2)\n",
    "print (\"The Standard Deviation for a sample of Population using stdev.s formula is:\" , S3)"
   ]
  },
  {
   "cell_type": "markdown",
   "metadata": {},
   "source": [
    "### Task 3\n",
    "\n",
    "11. Support Microsoft - Stdev S - https://support.microsoft.com/en-us/office/stdev-s-function-7d69cf97-0c1f-4acf-be27-f3e83904cc23\n",
    "12. Excel Tip - Stdev P - https://www.exceltip.com/statistical-formulas/how-to-use-excel-stdev-p-function.html#:~:text=Let's%20Explore.-,The%20STDEV.,sample%20of%20the%20entire%20population.\n",
    "13. Excel Tip - Stdev S - https://www.exceltip.com/statistical-formulas/how-to-use-stdev-s-function-in-excel.html\n",
    "14. Stackoverflow - Stdev using numpy - https://stackoverflow.com/questions/64884294/stdev-s-and-stdev-p-using-numpy\n",
    "15. Wikipedia - Bessels Correction - https://en.wikipedia.org/wiki/Bessel%27s_correction\n",
    "16. Statistics How To - Bessels Correction - https://www.statisticshowto.com/bessels-correction/\n",
    "17. https://stats.stackexchange.com/questions/198452/why-sample-variance-has-has-n-1-in-the-denominator\n",
    "18. https://stats.stackexchange.com/questions/3931/intuitive-explanation-for-dividing-by-n-1-when-calculating-standard-deviation\n",
    "19. https://www.geeksforgeeks.org/bessels-correction/\n",
    "20. https://stats.stackexchange.com/questions/3931/intuitive-explanation-for-dividing-by-n-1-when-calculating-standard-deviation\n",
    "21. https://stats.stackexchange.com/questions/198452/why-sample-variance-has-has-n-1-in-the-denominator"
   ]
  },
  {
   "cell_type": "markdown",
   "metadata": {},
   "source": [
    "## Task 4: \n",
    "***"
   ]
  },
  {
   "cell_type": "markdown",
   "metadata": {},
   "source": [
    "<b> Use scikit-learn to apply k-means clustering to Fisher’s famous Iris data set.</b>\n",
    "Scikit is a open source tool for data mining and data analysis built in Numpy, Scipy and Matplotlib and comes with the Iris dataset.\n",
    "\n",
    "\n",
    "About Clustering\n",
    "\n",
    "\n",
    "\n",
    "Clustering is the task of partitioning a dataset into groups, called Clusters. The objective of clustering is to identify distinct groups in the dataset such that the observations within a group are similar to each other but different from observations in other groups. Clustering is often used to find patterns in unlabeled data which has no label.\n",
    "\n",
    "K-Means Algorithm is one of the simplest and most commonly used clustering algorithms. In k-means clustering, the algorithm attempts to group observations into k groups, with each group having roughly equal variance. The number of groups, k, is specified by the user as a hyperparameter.\n",
    "\n",
    "In scikit-learn, k-means clustering is implemented using the KMeans() class. When using this class, the user must specify the value of the hyperparameter k by setting the n_clusters parameter to an integer greater than 1 since the algorithm does not learn k by itself.\n",
    "\n",
    "How the K-Means Algorithm Works\n",
    "The k-means algorithm can be summarized in the following five steps:\n",
    "\n",
    "1. Pick a value for k (the number of clusters to create)\n",
    "2. Initialize k ‘centroids’ (starting points) in your data\n",
    "3. Create your clusters. Assign each point to the nearest centroid.\n",
    "4. Make your clusters better. Move each centroid to the center of its cluster.\n",
    "5. Repeat steps 3–4 until your centroids converge.\n",
    "\n",
    "\n",
    "Using Scikit-learn for K-Means Clustering\n",
    "\n",
    "Now let’s work on an example to see how k-means clustering works and how to implement it using Scikit-learn. For this example, we have a dataset named iris which is a built-in dataset in Scikit-learn. The dataset contains four columns — sepal length, sepal width, petal length, and petal width measured in cm.\n",
    "\n",
    "\n",
    "The following steps describe the process of implementing k-means clustering to the dataset with Scikit-learn.\n",
    "\n"
   ]
  },
  {
   "cell_type": "code",
   "execution_count": null,
   "metadata": {},
   "outputs": [],
   "source": [
    "%matplotlib inline\n",
    "import numpy as np\n",
    "import pandas as pd\n",
    "import seaborn as sns\n",
    "import matplotlib.pyplot as plt\n",
    "\n",
    "#Read the Data\n",
    "f= pd.read_csv('IrisDataset.csv')"
   ]
  },
  {
   "cell_type": "code",
   "execution_count": null,
   "metadata": {},
   "outputs": [],
   "source": [
    "#The dataset that we use here is available in Scikit-learn. But it is not in the correct format that we want. So, we have to \n",
    "#do some manipulations to get the dataset ready for our task. Let’s load the dataset using Scikit-learn load_iris() function.\n",
    "from sklearn import neighbors, datasets\n",
    "iris = datasets.load_iris()"
   ]
  },
  {
   "cell_type": "code",
   "execution_count": 6,
   "metadata": {},
   "outputs": [
    {
     "data": {
      "text/plain": [
       "'1.4142135623730950488016887242096980785696718753769480731766797379907324784621070388503875343276415727'"
      ]
     },
     "execution_count": 6,
     "metadata": {},
     "output_type": "execute_result"
    }
   ],
   "source": []
  },
  {
   "cell_type": "code",
   "execution_count": 7,
   "metadata": {},
   "outputs": [],
   "source": [
    "\n",
    "\n"
   ]
  },
  {
   "cell_type": "code",
   "execution_count": null,
   "metadata": {},
   "outputs": [],
   "source": []
  },
  {
   "cell_type": "code",
   "execution_count": 14,
   "metadata": {},
   "outputs": [],
   "source": [
    "def mySqrt(x):\n",
    "\n",
    "    r = x\n",
    "    precision = 10 ** (-10)\n",
    "    \n",
    "    while abs(x - r * r) > precision:\n",
    "        r = (r + x / r) / 2\n",
    "        \n",
    "    return r"
   ]
  },
  {
   "cell_type": "code",
   "execution_count": 16,
   "metadata": {},
   "outputs": [
    {
     "data": {
      "text/plain": [
       "1.4142135623746899"
      ]
     },
     "execution_count": 16,
     "metadata": {},
     "output_type": "execute_result"
    }
   ],
   "source": [
    "mySqrt(2)"
   ]
  },
  {
   "cell_type": "markdown",
   "metadata": {},
   "source": [
    "\n"
   ]
  },
  {
   "cell_type": "markdown",
   "metadata": {},
   "source": [
    "References:\n",
    "\n",
    "Task 1\n",
    "\n",
    "1. https://www.geeksforgeeks.org/square-root-of-a-perfect-square/ - Babylonian\n",
    "2. https://en.wikipedia.org/wiki/Methods_of_computing_square_roots#Babylonian_method - About babylonian\n",
    "3. https://blogs.sas.com/content/iml/2016/05/16/babylonian-square-roots.html - About Babylonian SAS\n",
    "4. https://github.com/ianmcloughlin/playing-with-jupyter/blob/main/playing-with-jupyter.ipynb -GitHub Ian\n",
    "5. https://www.geeksforgeeks.org/precision-handling-python/ decimal\n",
    "https://docs.python.org/3/tutorial/floatingpoint.html\n",
    "C7. https://stackoverflow.com/questions/64278117/is-there-a-way-to-create-more-decimal-points-on-python-without-importing-a-libra\n",
    "8. https://learnonline.gmit.ie/mod/forum/discuss.php?d=6033 - Student Forum \n",
    "\n",
    "Task 2\n",
    "7. https://en.wikipedia.org/w/index.php?title=Chi-squared_test&oldid=983024096\n",
    "8. https://towardsdatascience.com/gentle-introduction-to-chi-square-test-for-independence-7182a7414a95 about Chi\n",
    "9. https://towardsdatascience.com/running-chi-square-tests-in-python-with-die-roll-data-b9903817c51b\n",
    "10. https://www.statisticshowto.com/probability-and-statistics/chi-square/\n",
    "\n",
    "Task 3\n",
    "11. https://support.microsoft.com/en-us/office/stdev-s-function-7d69cf97-0c1f-4acf-be27-f3e83904cc23\n",
    "12. https://www.exceltip.com/statistical-formulas/how-to-use-excel-stdev-p-function.html#:~:text=Let's%20Explore.-,The%20STDEV.,sample%20of%20the%20entire%20population.\n",
    "13. https://www.exceltip.com/statistical-formulas/how-to-use-stdev-s-function-in-excel.html\n",
    "14. https://stackoverflow.com/questions/64884294/stdev-s-and-stdev-p-using-numpy\n",
    "15. https://en.wikipedia.org/wiki/Bessel%27s_correction\n",
    "16 https://www.statisticshowto.com/bessels-correction/\n",
    "\n",
    "Task 4\n",
    "16. https://medium.com/@belen.sanchez27/predicting-iris-flower-species-with-k-means-clustering-in-python-f6e46806aaee\n",
    "17. https://rukshanpramoditha.medium.com/k-means-clustering-with-scikit-learn-e2af706450e4\n",
    "\n"
   ]
  },
  {
   "cell_type": "code",
   "execution_count": null,
   "metadata": {},
   "outputs": [],
   "source": [
    "\n"
   ]
  }
 ],
 "metadata": {
  "kernelspec": {
   "display_name": "Python 3",
   "language": "python",
   "name": "python3"
  },
  "language_info": {
   "codemirror_mode": {
    "name": "ipython",
    "version": 3
   },
   "file_extension": ".py",
   "mimetype": "text/x-python",
   "name": "python",
   "nbconvert_exporter": "python",
   "pygments_lexer": "ipython3",
   "version": "3.8.3"
  }
 },
 "nbformat": 4,
 "nbformat_minor": 4
}
