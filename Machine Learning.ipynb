{
 "cells": [
  {
   "cell_type": "markdown",
   "metadata": {},
   "source": [
    "# Machine Learning and Statistic\n",
    "***"
   ]
  },
  {
   "cell_type": "markdown",
   "metadata": {},
   "source": [
    "### Introduction"
   ]
  },
  {
   "cell_type": "markdown",
   "metadata": {},
   "source": [
    "This document have been created to complete Machine Learning and Stadistic task assesment using Python and Jupyter Notebook. \n",
    "\n",
    "This projects will be separated in four different tasks."
   ]
  },
  {
   "cell_type": "markdown",
   "metadata": {},
   "source": [
    "### Task 1: "
   ]
  },
  {
   "cell_type": "markdown",
   "metadata": {},
   "source": [
    "Write a Python function called sqrt2 that calculates and prints to the screen the square root of 2 to 100 decimal places. \n",
    "\n",
    "We can calculate the square number of a root using Babylonian method, which is  derived from (but predates) Newton–Raphson method.\n",
    "\n",
    "1 Start with an arbitrary positive start value x (the closer to the \n",
    "   root, the better).\n",
    "2 Initialize y = 1.\n",
    "3. Do following until desired approximation is achieved.\n",
    "  a) Get the next approximation for root using average of x and y\n",
    "  b) Set y = n/x"
   ]
  },
  {
   "cell_type": "code",
   "execution_count": 35,
   "metadata": {},
   "outputs": [],
   "source": [
    "def squareRoot(n): \n",
    "    x = n; \n",
    "    y = 1; \n",
    "    while(x > y): \n",
    "        x = (x + y) / 2; \n",
    "        y = n / x; \n",
    "    return x; "
   ]
  },
  {
   "cell_type": "code",
   "execution_count": 37,
   "metadata": {},
   "outputs": [
    {
     "name": "stdout",
     "output_type": "stream",
     "text": [
      "1.4142135623730949234300169337075203657150268554687500000000000000000000000000000000000000000000000000\n"
     ]
    }
   ],
   "source": [
    "print (\"{0:.100f}\".format(squareRoot(2)))"
   ]
  },
  {
   "cell_type": "markdown",
   "metadata": {},
   "source": [
    "References:\n",
    "1. file:///C:/Users/kado4/Desktop/GMIT/Machine%20Learning%20ans%20Statistic/assessment%20(1).pdf - Assesment\n",
    "2. https://www.geeksforgeeks.org/square-root-of-a-perfect-square/ - Babylonian\n",
    "3 https://github.com/ianmcloughlin/playing-with-jupyter/blob/main/playing-with-jupyter.ipynb -GitHub Ian\n",
    "4. https://www.geeksforgeeks.org/precision-handling-python/ decimal\n"
   ]
  },
  {
   "cell_type": "code",
   "execution_count": 42,
   "metadata": {},
   "outputs": [],
   "source": [
    "def isqrt(n):\n",
    "    x = (n >> n.bit_length() // 2) + 1\n",
    "    result = (x + n // x) // 2\n",
    "    while abs(result - x) > 1:\n",
    "        x = result\n",
    "        result = (x + n // x) // 2\n",
    "    while result * result > n:\n",
    "        result -= 1\n",
    "    return result"
   ]
  },
  {
   "cell_type": "code",
   "execution_count": 43,
   "metadata": {},
   "outputs": [
    {
     "data": {
      "text/plain": [
       "1"
      ]
     },
     "execution_count": 43,
     "metadata": {},
     "output_type": "execute_result"
    }
   ],
   "source": [
    "isqrt(2)"
   ]
  }
 ],
 "metadata": {
  "kernelspec": {
   "display_name": "Python 3",
   "language": "python",
   "name": "python3"
  },
  "language_info": {
   "codemirror_mode": {
    "name": "ipython",
    "version": 3
   },
   "file_extension": ".py",
   "mimetype": "text/x-python",
   "name": "python",
   "nbconvert_exporter": "python",
   "pygments_lexer": "ipython3",
   "version": "3.8.3"
  }
 },
 "nbformat": 4,
 "nbformat_minor": 4
}
