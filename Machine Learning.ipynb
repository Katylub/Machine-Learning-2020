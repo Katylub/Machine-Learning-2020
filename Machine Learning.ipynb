{
 "cells": [
  {
   "cell_type": "markdown",
   "metadata": {},
   "source": [
    "# Machine Learning and Statistic\n",
    "***"
   ]
  },
  {
   "cell_type": "markdown",
   "metadata": {},
   "source": [
    "### Introduction"
   ]
  },
  {
   "cell_type": "markdown",
   "metadata": {},
   "source": [
    "This document have been created to complete Machine Learning and Stadistic task assesment using Python and Jupyter Notebook. [1\n",
    "\n",
    "This projects will be separated in four different tasks."
   ]
  },
  {
   "cell_type": "markdown",
   "metadata": {},
   "source": [
    "### Task 1: "
   ]
  },
  {
   "cell_type": "markdown",
   "metadata": {},
   "source": [
    "<b>Write a Python function called sqrt2 that calculates and prints to the screen the square root of 2 to 100 decimal places. </b>\n",
    "\n",
    "We can calculate the square number of a root using Babylonian method, which sometimes is called Hero's method after the first-century Greek mathematician Hero of Alexandria who gave the first explicit description of the method in his AD 60 work Metrica. The formula can be represented as below:\n",
    "\n",
    "$$ x_{n+1} = 1/2 * (x_n + ( {S}/ {x_n}))$$\n",
    "\n",
    "The idea is simple, starting from an arbitrary value of x, and y as 1, we can simply get next approximation of root by finding the average of x and y. Then the y value will be updated with  number / x. See example with detail explanation of function:"
   ]
  },
  {
   "cell_type": "code",
   "execution_count": 133,
   "metadata": {},
   "outputs": [],
   "source": [
    "# Define the function to calculate the square root of a number n\n",
    "\n",
    "def sqrt2(n): \n",
    "  \n",
    "    # Use x as initial approximation\n",
    "        x = n \n",
    "    # Initialize \n",
    "        y = 1          \n",
    "    # e decides the accuracy level \n",
    "        e = 0.000001\n",
    "    # Create condition for accuracy and calculate the better guess\n",
    "        while(x - y > e): \n",
    "    # Get the next approximation for root using average of x and y\n",
    "            x = (x + y)/2\n",
    "            y = n / x \n",
    "    # Return the (approximate) square root of x.\n",
    "        return x\n",
    "     "
   ]
  },
  {
   "cell_type": "code",
   "execution_count": 134,
   "metadata": {},
   "outputs": [
    {
     "data": {
      "text/plain": [
       "'1.4142135623746898698271934335934929549694061279296875000000000000000000000000000000000000000000000000'"
      ]
     },
     "execution_count": 134,
     "metadata": {},
     "output_type": "execute_result"
    }
   ],
   "source": [
    "#Ask for square root of 2 and print 100 decimals. \n",
    "\"{0:.100f}\".format(sqrt2(2))"
   ]
  },
  {
   "cell_type": "markdown",
   "metadata": {},
   "source": [
    "References:\n",
    "1. file:///C:/Users/kado4/Desktop/GMIT/Machine%20Learning%20ans%20Statistic/assessment%20(1).pdf - Assesment\n",
    "2. https://www.geeksforgeeks.org/square-root-of-a-perfect-square/ - Babylonian\n",
    "3. https://en.wikipedia.org/wiki/Methods_of_computing_square_roots#Babylonian_method - About babylonian\n",
    "4. https://blogs.sas.com/content/iml/2016/05/16/babylonian-square-roots.html#:~:text=The%20iterative%20method%20is%20called,Newton%20invented%20his%20general%20procedure. -babylonian\n",
    "3. https://github.com/ianmcloughlin/playing-with-jupyter/blob/main/playing-with-jupyter.ipynb -GitHub Ian\n",
    "4. https://www.geeksforgeeks.org/precision-handling-python/ decimal\n",
    "5. https://stackoverflow.com/questions/5187664/generating-digits-of-square-root-of-2 starclflow\n",
    "6. https://stackoverflow.com/questions/58170806/how-to-compute-and-store-the-digits-of-sqrtn-up-to-106-decimal-places\n",
    "\n"
   ]
  },
  {
   "cell_type": "code",
   "execution_count": null,
   "metadata": {},
   "outputs": [],
   "source": [
    "\n"
   ]
  }
 ],
 "metadata": {
  "kernelspec": {
   "display_name": "Python 3",
   "language": "python",
   "name": "python3"
  },
  "language_info": {
   "codemirror_mode": {
    "name": "ipython",
    "version": 3
   },
   "file_extension": ".py",
   "mimetype": "text/x-python",
   "name": "python",
   "nbconvert_exporter": "python",
   "pygments_lexer": "ipython3",
   "version": "3.8.3"
  }
 },
 "nbformat": 4,
 "nbformat_minor": 4
}
