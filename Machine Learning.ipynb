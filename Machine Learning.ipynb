{
 "cells": [
  {
   "cell_type": "markdown",
   "metadata": {},
   "source": [
    "# Machine Learning and Statistic\n",
    "***"
   ]
  },
  {
   "cell_type": "markdown",
   "metadata": {},
   "source": [
    "### Introduction"
   ]
  },
  {
   "cell_type": "markdown",
   "metadata": {},
   "source": [
    "This document have been created to complete Machine Learning and Stadistic task assesment using Python and Jupyter Notebook. \n",
    "\n",
    "This projects will be separated in four different tasks."
   ]
  },
  {
   "cell_type": "markdown",
   "metadata": {},
   "source": [
    "### Task 1: "
   ]
  },
  {
   "cell_type": "markdown",
   "metadata": {},
   "source": [
    "Write a Python function called sqrt2 that calculates and prints to the screen the square root of 2 to 100 decimal places. \n",
    "\n",
    "We can calculate the square number of a root using Babylonian method, which is  derived from (but predates) Newton–Raphson method.\n",
    "\n",
    "1 Start with an arbitrary positive start value x (the closer to the \n",
    "   root, the better).\n",
    "2 Initialize y = 1.\n",
    "3. Do following until desired approximation is achieved.\n",
    "  a) Get the next approximation for root using average of x and y\n",
    "  b) Set y = n/x"
   ]
  },
  {
   "cell_type": "code",
   "execution_count": 2,
   "metadata": {},
   "outputs": [
    {
     "ename": "IndentationError",
     "evalue": "unindent does not match any outer indentation level (<tokenize>, line 7)",
     "output_type": "error",
     "traceback": [
      "\u001b[1;36m  File \u001b[1;32m\"<tokenize>\"\u001b[1;36m, line \u001b[1;32m7\u001b[0m\n\u001b[1;33m    return x;\u001b[0m\n\u001b[1;37m    ^\u001b[0m\n\u001b[1;31mIndentationError\u001b[0m\u001b[1;31m:\u001b[0m unindent does not match any outer indentation level\n"
     ]
    }
   ],
   "source": [
    "def squareRoot(n): \n",
    "    x = n; \n",
    "    y = 1; \n",
    "    while(x > y): \n",
    "        x = (x + y) / 2; \n",
    "        y = n / x; \n",
    "     return x;   \n",
    "\n",
    "     "
   ]
  },
  {
   "cell_type": "code",
   "execution_count": 29,
   "metadata": {},
   "outputs": [
    {
     "name": "stdout",
     "output_type": "stream",
     "text": [
      "1.4142135623746898698271934335934929549694061279296875000000000000000000000000000000000000000000000000\n"
     ]
    }
   ],
   "source": [
    "print (\"{0:.100f}\".format(squareRoot(2)))"
   ]
  },
  {
   "cell_type": "markdown",
   "metadata": {},
   "source": [
    "References:\n",
    "1. file:///C:/Users/kado4/Desktop/GMIT/Machine%20Learning%20ans%20Statistic/assessment%20(1).pdf - Assesment\n",
    "2. https://www.geeksforgeeks.org/square-root-of-a-perfect-square/ - Babylonian\n",
    "3 https://github.com/ianmcloughlin/playing-with-jupyter/blob/main/playing-with-jupyter.ipynb -GitHub Ian\n",
    "4. https://www.geeksforgeeks.org/precision-handling-python/ decimal\n",
    "5. https://stackoverflow.com/questions/5187664/generating-digits-of-square-root-of-2 starclflow\n"
   ]
  },
  {
   "cell_type": "code",
   "execution_count": 3,
   "metadata": {},
   "outputs": [],
   "source": [
    "def isqrt(n):\n",
    "    x = (n >> n.bit_length() // 2) + 1\n",
    "    result = (x + n // x) // 2\n",
    "    while abs(result - x) > 1:\n",
    "        x = result\n",
    "        result = (x + n // x) // 2\n",
    "    while result * result > n:\n",
    "        result -= 1\n",
    "    return result"
   ]
  },
  {
   "cell_type": "code",
   "execution_count": 4,
   "metadata": {},
   "outputs": [
    {
     "data": {
      "text/plain": [
       "1"
      ]
     },
     "execution_count": 4,
     "metadata": {},
     "output_type": "execute_result"
    }
   ],
   "source": [
    "isqrt(2)"
   ]
  },
  {
   "cell_type": "code",
   "execution_count": null,
   "metadata": {},
   "outputs": [],
   "source": []
  },
  {
   "cell_type": "code",
   "execution_count": 5,
   "metadata": {},
   "outputs": [],
   "source": [
    "def sqrt(x):\n",
    "    \"\"\"\n",
    "    A function to calculate the square root of a number x.\n",
    "    \"\"\"\n",
    "    # Initial guess for the square root z.\n",
    "    z = x / 2\n",
    "    # Loop until we're happy with the accuracy.\n",
    "    while abs(x - (z * z)) > 0.01:\n",
    "        # Calculate a better guess for the square root.\n",
    "        z -= (z*z - x) / (2 * z)\n",
    "    # Return the (approximate) square root of x.\n",
    "    return z "
   ]
  },
  {
   "cell_type": "code",
   "execution_count": 6,
   "metadata": {},
   "outputs": [
    {
     "data": {
      "text/plain": [
       "1.4166666666666667"
      ]
     },
     "execution_count": 6,
     "metadata": {},
     "output_type": "execute_result"
    }
   ],
   "source": [
    "sqrt(2)"
   ]
  },
  {
   "cell_type": "code",
   "execution_count": 46,
   "metadata": {},
   "outputs": [],
   "source": [
    "def sqroot(a, digits):\n",
    "    a = a * (10**(2*digits))\n",
    "    x = 0\n",
    "    y = 1 * (10**digits)\n",
    "    while x != y:\n",
    "        x = y\n",
    "        y = (x + (a // x)) >> 1\n",
    "    return y; \n"
   ]
  },
  {
   "cell_type": "code",
   "execution_count": 48,
   "metadata": {},
   "outputs": [
    {
     "data": {
      "text/plain": [
       "14142135623730950488016887242096980785696718753769480731766797379907324784621070388503875343276415727"
      ]
     },
     "execution_count": 48,
     "metadata": {},
     "output_type": "execute_result"
    }
   ],
   "source": [
    "sqroot(2,100)"
   ]
  },
  {
   "cell_type": "code",
   "execution_count": 9,
   "metadata": {},
   "outputs": [],
   "source": [
    "def squareRoot(number, precision): \n",
    "  \n",
    "    start = 0\n",
    "    end,ans = number,1\n",
    "  \n",
    "    # For computing integral part \n",
    "    # of square root of number \n",
    "    while (start <= end) : \n",
    "        mid = int((start + end) / 2) \n",
    "          \n",
    "        if (mid * mid == number) : \n",
    "            ans = mid \n",
    "            break\n",
    "          \n",
    "        # incrementing start if integral \n",
    "        # part lies on right side of the mid \n",
    "        if (mid * mid < number) : \n",
    "            start = mid + 1\n",
    "              \n",
    "          \n",
    "        # decrementing end if integral part \n",
    "        # lies on the left side of the mid \n",
    "        else : \n",
    "            end = mid - 1\n",
    "          \n",
    "    # For computing the fractional part \n",
    "    # of square root upto given precision \n",
    "    increment = 0.1\n",
    "    for i in range(0, precision):  \n",
    "        while (ans * ans <= number): \n",
    "            ans += increment \n",
    "          \n",
    "        # loop terminates when ans * ans > number \n",
    "        ans = ans - increment \n",
    "        increment = increment / 10\n",
    "      \n",
    "    return ans \n",
    "  \n"
   ]
  },
  {
   "cell_type": "code",
   "execution_count": 17,
   "metadata": {},
   "outputs": [
    {
     "data": {
      "text/plain": [
       "7.071067811864992"
      ]
     },
     "execution_count": 17,
     "metadata": {},
     "output_type": "execute_result"
    }
   ],
   "source": [
    "# Driver co\n",
    "squareRoot(50, 12)"
   ]
  },
  {
   "cell_type": "code",
   "execution_count": 44,
   "metadata": {},
   "outputs": [],
   "source": [
    "def squareRoot2(n): \n",
    "  \n",
    "    # We are using n itself as \n",
    "    # initial approximation This \n",
    "    # can definitely be improved  \n",
    "        x = n \n",
    "        y = 1\n",
    "          \n",
    "        # e decides the accuracy level \n",
    "        e = 0.000001\n",
    "        while(x - y > e): \n",
    "      \n",
    "            x = (x + y)/2\n",
    "            y = n / x \n",
    "      \n",
    "        return x"
   ]
  },
  {
   "cell_type": "code",
   "execution_count": 45,
   "metadata": {},
   "outputs": [
    {
     "name": "stdout",
     "output_type": "stream",
     "text": [
      "1.4142135623746898698271934335934929549694061279296875000000000000000000000000000000000000000000000000\n"
     ]
    }
   ],
   "source": [
    "print (\"{0:.100f}\".format(squareRoot2(2)))"
   ]
  },
  {
   "cell_type": "code",
   "execution_count": 28,
   "metadata": {},
   "outputs": [
    {
     "name": "stdout",
     "output_type": "stream",
     "text": [
      "Square root of 2 is 1.4142135623746899\n"
     ]
    }
   ],
   "source": [
    "print(\"Square root of\", 2, \"is\", round(squareRoot(2), 40)) "
   ]
  },
  {
   "cell_type": "code",
   "execution_count": null,
   "metadata": {},
   "outputs": [],
   "source": []
  }
 ],
 "metadata": {
  "kernelspec": {
   "display_name": "Python 3",
   "language": "python",
   "name": "python3"
  },
  "language_info": {
   "codemirror_mode": {
    "name": "ipython",
    "version": 3
   },
   "file_extension": ".py",
   "mimetype": "text/x-python",
   "name": "python",
   "nbconvert_exporter": "python",
   "pygments_lexer": "ipython3",
   "version": "3.8.3"
  }
 },
 "nbformat": 4,
 "nbformat_minor": 4
}
