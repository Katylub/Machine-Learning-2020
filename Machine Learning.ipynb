{
 "cells": [
  {
   "cell_type": "markdown",
   "metadata": {},
   "source": [
    "# Machine Learning and Statistic\n",
    "***"
   ]
  },
  {
   "cell_type": "markdown",
   "metadata": {},
   "source": [
    "## Introduction\n",
    "***"
   ]
  },
  {
   "cell_type": "markdown",
   "metadata": {},
   "source": [
    "This document have been created to complete Machine Learning and Stadistic tasks assesment using Python and Jupyter Notebook. \n",
    "\n",
    "This projects will be separated in four different tasks."
   ]
  },
  {
   "cell_type": "markdown",
   "metadata": {},
   "source": [
    "## Task 1: \n",
    "***"
   ]
  },
  {
   "cell_type": "markdown",
   "metadata": {},
   "source": [
    "<b>Write a Python function called sqrt2 that calculates and prints to the screen the square root of 2 to 100 decimal places. </b>\n",
    "\n",
    "We can calculate the square number of a root using Babylonian method, which sometimes is called Hero's method after the first-century Greek mathematician Hero of Alexandria who gave the first explicit description of the method in his work Metrica [1,2]. The formula is  derived from (but predates) Newton–Raphson method and can be represented as below:\n",
    "\n",
    "\\begin{equation}\n",
    "\\ x_{n+1} = \\frac{1}{2} \\left(x_n + \\frac{S}{x_n}\\right) \\\\\n",
    "\\text{ Where x is our initial guess of} \\sqrt {S}\n",
    "\\end{equation}\n",
    "\n",
    "\n",
    "\n",
    "### About Babylonian Method \n",
    "\n",
    "The iterative method is called the Babylonian method for finding square roots. It was known to the ancient Babylonians (1500 BC) and Greeks (100 AD) long before Newton invented his general procedure.[3]\n",
    "\n",
    "Here's how it works. Suppose you are given any positive number $S$. To find the square root of $S$, do the following:\n",
    "\n",
    "1. Make an initial guess. Guess any positive number $x_{0}$.\n",
    "2. Improve the guess. Apply the formula \n",
    "$x_{1} = (x_{0} + S / x_{0}) / 2$. The number $x_{1}$ is a better approximation to sqrt($S$). \n",
    "3. Iterate until convergence. Apply the formula $x_{n+1} = (x_{n} + S / x_{n}) / 2$ until the process converges. Convergence is achieved when the digits of $x_{n+1}$ and $x_{n}$ agree to as many decimal places as you desire.\n",
    "\n",
    "### Demonstration\n",
    "\n",
    "The idea is simple, starting from an arbitrary value of x, and y as 1, we can simply get next approximation of root by finding the average of x and y. Then the y value will be updated with  number / x [1,4].\n",
    "\n",
    "As we can see below, the floating point result is not represent exactly in Python because computers operate in base 2 (binary) while natural floating point numbers are in base 10 (decimal) [5]."
   ]
  },
  {
   "cell_type": "code",
   "execution_count": 9,
   "metadata": {},
   "outputs": [],
   "source": [
    "# Define the function to calculate the square root of a number n\n",
    "\n",
    "def sqrt2(n): \n",
    "  \n",
    "    # Use x as initial approximation (1)\n",
    "        x = n \n",
    "    # Initialize (2)\n",
    "        y = 1          \n",
    "    # e decides the accuracy level \n",
    "        e = 0.000001\n",
    "    # Create condition for accuracy and calculate the better guess (3)\n",
    "        while(x - y > e): \n",
    "    # Get the next approximation for root using average of x and y\n",
    "            x = (x + y)/2\n",
    "            y = n / x \n",
    "    # Return the (approximate) square root of x.\n",
    "        return x\n",
    "     "
   ]
  },
  {
   "cell_type": "code",
   "execution_count": 10,
   "metadata": {},
   "outputs": [
    {
     "data": {
      "text/plain": [
       "'1.4142135623746898698271934335934929549694061279296875000000000000000000000000000000000000000000000000'"
      ]
     },
     "execution_count": 10,
     "metadata": {},
     "output_type": "execute_result"
    }
   ],
   "source": [
    "#Ask for square root of 2 and print 100 decimals [5].  \n",
    "\"{0:.100f}\".format(sqrt2(2))"
   ]
  },
  {
   "cell_type": "markdown",
   "metadata": {},
   "source": [
    "## Task 2: \n",
    "***"
   ]
  },
  {
   "cell_type": "markdown",
   "metadata": {},
   "source": [
    "<b>Use scipy.stats to verify the Chi-squared value of the table below it is approximately 24.6 and and calculate the associated p value [7].</b>\n",
    "\n",
    "\n",
    "The Chi-squared test for independence is a statistical hypothesis test like a t-test. It is used to analyse whether two categorical variables are independent. In order to find Chi-square, we are going to use the SciPy package. SciPy is a Python-based open-source software for mathematics, science, and engineering [8].\n",
    "\n",
    "\n",
    "|              | A   | B   | C   | D   | Total |\n",
    "|-------------:|-----|-----|-----|-----|-------|\n",
    "| White Collar | 90  | 60  | 104 | 95  | 349   |\n",
    "| Blue Collar  | 30  | 50  | 51  | 20  | 151   |\n",
    "| No Collar    | 30  | 40  | 45  | 35  | 150   |\n",
    "|------------- |-----|-----|-----|-----|-------|\n",
    "| Total        | 150 | 150 | 200 | 150 | 650   |\n",
    "    \n",
    "    \n",
    " ### About Chi-Square\n",
    "\n",
    "The Chi-square test for independence is also called Pearson’s chi-square test. Chi-square test for independence is used in science, economics, marketing, or other various fields. There are three ways to use the Chi-square. The Chi-square test for independence shows how two sets of data are independent of each other. Chi-square of the Goodness-of-fit test shows how different your data to the expected value. The test for homogeneity determines if two or more populations have the same distribution of a single categorical variable [8,9,10].\n",
    "\n",
    "In the section below we will implement an example of Chi-square test for independence which compares two variables in a contingency table to see if they are related. In a more general sense, it tests to see whether distributions of categorical variables differ from each another.\n",
    "\n",
    "- A very small chi square test statistic means that your observed data fits your expected data extremely well. In other words, there is a relationship.\n",
    "\n",
    "- A very large chi square test statistic means that the data does not fit very well. In other words, there isn’t a relationship.\n",
    "\n",
    "The formula for the chi-square statistic used in the chi square test is:\n",
    "\n",
    "\\begin{equation}\n",
    "\\chi^2=\\Sigma\\frac{(O-E)^2}{E} \\\\\n",
    "\\text{where O is the actual value and E is the expected value.}\n",
    "\\end{equation}\n",
    "\n",
    "A chi-square statistic is one way to show a relationship between two categorical variables. In statistics, there are two types of variables: numerical (countable) variables and non-numerical (categorical) variables. The chi-squared statistic is a single number that tells you how much difference exists between your observed counts and the counts you would expect if there were no relationship at all in the population.\n",
    "\n",
    "A low value for chi-square means there is a high correlation between your two sets of data. In theory, if your observed and expected values were equal (“no difference”) then chi-square would be zero — an event that is unlikely to happen in real life. Deciding whether a chi-square test statistic is large enough to indicate a statistically significant difference isn’t as easy it seems. It would be nice if we could say a chi-square test statistic >10 means a difference, but unfortunately that isn’t the case.\n",
    "\n",
    "To evaluate the difference you could use a p-value. First state the null hypothesis and the alternate hypothesis. Then generate a chi-square curve for your results along with a p-value. Small p-values (under 5%) usually indicate that a difference is significant (or “small enough”).\n",
    "\n",
    "<b>Using Chi Square P-Values</b>\n",
    "\n",
    "A chi square test will give you a p-value. The p-value will tell you if your test results are significant or not. In order to perform a chi square test and get the p-value, you need two pieces of information:\n",
    "\n",
    "\n",
    "1. Degrees of freedom: You can find the degree of freedom in the third returned value when you use SciPy. The degree of freedom is used to find the p-value. The way you find the degree of freedom (dof) for 𝜒2 for independence is dof = (the number of rows - 1) X (The number of columns - 1)\n",
    "\n",
    "\n",
    "2. The alpha level(α). This is chosen by you, or the researcher. The usual alpha level is 0.05 (5%), but you could also have other levels like 0.01 or 0.10.\n",
    "\n",
    "### Demonstration\n",
    "\n",
    "In the example below we demostrated that the Chi-square of the table above is approximately 24.6 and we can see the P-Value is 0.00041 which is lower than 0.05 which is the usual alpha level, therefore we reject the null hypothesis of independence and accept that the variables have a relation. \n",
    "\n",
    "Finally, the array at the end of the output is the contingency table (also called crosstab) with expected values based on all of our samples. Is used in statistics to summarise the relationship between several categorical variables and in our example we can see that blue collar and no collar have similar distribution and the white collar have higher values. \n",
    "\n",
    "See below steps to calculate the Chi-Square of the table requested:"
   ]
  },
  {
   "cell_type": "code",
   "execution_count": 11,
   "metadata": {},
   "outputs": [],
   "source": [
    "# We add the data using Numpy dataframe and we will store our data in the table in a variable called collars[9].\n",
    "\n",
    "import numpy as np\n",
    "\n",
    "a1 = [90, 60, 104, 95]\n",
    "a2 = [30, 50, 51, 20]\n",
    "a3 = [30, 40, 45, 35]\n",
    "\n",
    "collars = np.array([a1, a2, a3])"
   ]
  },
  {
   "cell_type": "code",
   "execution_count": 12,
   "metadata": {},
   "outputs": [
    {
     "name": "stdout",
     "output_type": "stream",
     "text": [
      "===Chi2 Stat===\n",
      "24.5712028585826\n",
      "===Degrees of Freedom===\n",
      "6\n",
      "\n",
      "\n",
      "===P-Value===\n",
      "0.0004098425861096696\n",
      "\n",
      "\n",
      "===Contingency Table===\n",
      "[[ 80.53846154  80.53846154 107.38461538  80.53846154]\n",
      " [ 34.84615385  34.84615385  46.46153846  34.84615385]\n",
      " [ 34.61538462  34.61538462  46.15384615  34.61538462]]\n"
     ]
    }
   ],
   "source": [
    "# Using SciPy’s chi2_contingency() we will get four values, 𝜒2 value, p-value, degree of freedom and expected values. \n",
    "# The data is represented in a easy to read code as SciPy give the data not organised [9]. \n",
    "\n",
    "from scipy import stats\n",
    "stats.chi2_contingency(collars)\n",
    "\n",
    "chi2_stat, p_val, dof, ex = stats.chi2_contingency(collars)\n",
    "print(\"===Chi2 Stat===\")\n",
    "print(chi2_stat)\n",
    "\n",
    "print(\"===Degrees of Freedom===\")\n",
    "print(dof)\n",
    "print(\"\\n\")\n",
    "print(\"===P-Value===\")\n",
    "print(p_val)\n",
    "print(\"\\n\")\n",
    "print(\"===Contingency Table===\")\n",
    "print(ex)"
   ]
  },
  {
   "cell_type": "markdown",
   "metadata": {},
   "source": [
    "## Task 3: \n",
    "***"
   ]
  },
  {
   "cell_type": "markdown",
   "metadata": {},
   "source": [
    "<b> Research about standard deviation functions in Excel STDEV.P and STDEV.S, writing a note about the difference between them. Then use numpy to perform a simulation demonstrating that the STDEV.S calculation is a better estimate for sample.</b>\n",
    "\n",
    "The standard deviation is a measure of how widely values are dispersed from the average value (the mean)[11], the formula to calculate standar deviation is the below [11,12]:  \n",
    "\n",
    "\\begin{equation}\n",
    "\\sigma = \\sqrt{\\frac{\\sum\\limits_{i=1}^{n} \\left(x_{i} - \\bar{x}\\right)^{2}} {n-1}} \\\\ <br>\n",
    "\\text{Where x is the sample mean average (number1,number2,…) and n is the sample size.}\n",
    "\\end{equation}\n",
    "\n",
    "### Difference between STDEV.P and STDEV.S\n",
    "\n",
    "The STDEV.P function is used when your data represents the entire population.The squared deviation is divided by the total number of arguments, mostly represented as N.\n",
    "\n",
    "\n",
    "The STDEV.S function is used when your data is a sample of the entire population. The squared deviation is divided by the total number of sample -1. It is represented as N-1.\n",
    "\n",
    "\n",
    "Since STDEV.P function considers entire data, and some factors may dominate the result standard deviation. And since it will be taken as the standard deviation for everyone in data, even for minorities, this is called <b>Biased Analysis</b>. This is why this standard deviation is recommended to use only when an analysis is non-destructive. Don’t use STDEV.P if you haven’t captured the entire population for analysis.\n",
    "\n",
    "The STDEV.S or STDEV function is used on a small sample of the entire population, and we subtract one from the denominator (number of samples arguments). This is called <b>non-biassed analysis</b> of standard deviation. This is used when an analysis is destructive.\n",
    "\n",
    "A low measure of Standard Deviation indicates that the data are less spread out, whereas a high value of Standard Deviation shows that the data in a set are spread apart from their mean average values. A useful property of the standard deviation is that, unlike the variance, it is expressed in the same units as the data.\n",
    "\n",
    "### Demonstration: \n",
    "\n",
    "When you calculate statistics for an entire population (mean, variance, etc.) results are accurate because all data is available. However, when you calculate statistics for a sample, results are estimates and therefore not as accurate [15].\n",
    "\n",
    "We will use the example below to demostrated the STDEV.S calculation is a better estimate for the standard deviation when performed on a sample. [14]\n",
    "\n",
    "For the example we will take a population with a total of 20 elements and calculate the standard deviation using both functions STDEV.P and STDEV.S, after that we will take a sample of 5 elements from the total and calculate the standard with both functions to compare results. \n",
    "\n",
    "As results, below we can see if we take a sample of population the standard variation is lower using STDEV.S formula with a deviation of 3.47 versus the STDEV.P formula with a desviation of 3.61. This is due to <b> Bessel´s correction </b> which is is an adjustment made to correct for bias that occurs when working with sample data. It appears in formulas as n-1, where n is the count. When working with a sample population, Bessel's correction can provide a better estimation of the standard deviation.\n",
    "\n",
    "On the other hand we also demostrate below that using STDEV.P is a better formula when we have the total of population. \n",
    "\n"
   ]
  },
  {
   "cell_type": "code",
   "execution_count": 15,
   "metadata": {},
   "outputs": [
    {
     "name": "stdout",
     "output_type": "stream",
     "text": [
      "The Standard Deviation for Total Population using stdev.p formula is: 2.9832867780352594\n",
      "The Standard Deviation for Total Population using stdev.s formula is: 3.0607876523260447\n"
     ]
    }
   ],
   "source": [
    "#For a total population of 20 we will calculate the Standard variation using both formulas \n",
    "\n",
    "# Import Numpy library \n",
    "import numpy as np\n",
    "\n",
    "# We define the array with 20 random numbers\n",
    "x = ([9,2,5,4,12,7,8,11,9,3,7,4,12,5,4,10,9,6,9,4])\n",
    "\n",
    "# Formula to calculate the Stdev.p using Numpy\n",
    "a = np.sqrt(np.sum((x - np.mean(x))**2)/len(x))\n",
    "\n",
    "# Formula to calculate the Stdev.s using Numpy\n",
    "b = np.sqrt(np.sum((x - np.mean(x))**2)/(len(x)-1))\n",
    "\n",
    "print (\"The Standard Deviation for Total Population using stdev.p formula is:\" , a)\n",
    "print (\"The Standard Deviation for Total Population using stdev.s formula is:\" , b)"
   ]
  },
  {
   "cell_type": "code",
   "execution_count": 16,
   "metadata": {},
   "outputs": [
    {
     "name": "stdout",
     "output_type": "stream",
     "text": [
      "The Standard Deviation for a sample of Population using stdev.p formula is: 3.6110940170535577\n",
      "The Standard Deviation for a sample of Population using stdev.s formula is: 3.4698703145794947\n"
     ]
    }
   ],
   "source": [
    "#For the total population of 20 above, we will take 5 random samples to calculate standard using both formulas \n",
    "\n",
    "#Array with 5 samples\n",
    "y = ([9,2,5,4,12])\n",
    "\n",
    "# Formula to calculate the Stdev.p using Numpy\n",
    "c = np.sqrt(np.sum((y - np.mean(y))**2)/len(y))\n",
    "\n",
    "# Formula to calculate the Stdev.s using Numpy\n",
    "d = np.sqrt(np.sum((y - np.mean(y))**2)/len(y)-1)\n",
    "\n",
    "print (\"The Standard Deviation for a sample of Population using stdev.p formula is:\" , c)\n",
    "print (\"The Standard Deviation for a sample of Population using stdev.s formula is:\" , d)"
   ]
  },
  {
   "cell_type": "markdown",
   "metadata": {},
   "source": [
    "## Task 4: \n",
    "***"
   ]
  },
  {
   "cell_type": "markdown",
   "metadata": {},
   "source": [
    "<b> Use scikit-learn to apply k-means clustering to Fisher’s famous Iris data set.</b>"
   ]
  },
  {
   "cell_type": "code",
   "execution_count": null,
   "metadata": {},
   "outputs": [],
   "source": []
  },
  {
   "cell_type": "code",
   "execution_count": null,
   "metadata": {},
   "outputs": [],
   "source": []
  },
  {
   "cell_type": "code",
   "execution_count": null,
   "metadata": {},
   "outputs": [],
   "source": []
  },
  {
   "cell_type": "code",
   "execution_count": null,
   "metadata": {},
   "outputs": [],
   "source": []
  },
  {
   "cell_type": "code",
   "execution_count": null,
   "metadata": {},
   "outputs": [],
   "source": []
  },
  {
   "cell_type": "code",
   "execution_count": null,
   "metadata": {},
   "outputs": [],
   "source": []
  },
  {
   "cell_type": "code",
   "execution_count": null,
   "metadata": {},
   "outputs": [],
   "source": []
  },
  {
   "cell_type": "markdown",
   "metadata": {},
   "source": [
    "\n"
   ]
  },
  {
   "cell_type": "markdown",
   "metadata": {},
   "source": [
    "References:\n",
    "\n",
    "Task 1\n",
    "\n",
    "1. https://www.geeksforgeeks.org/square-root-of-a-perfect-square/ - Babylonian\n",
    "2. https://en.wikipedia.org/wiki/Methods_of_computing_square_roots#Babylonian_method - About babylonian\n",
    "3. https://blogs.sas.com/content/iml/2016/05/16/babylonian-square-roots.html - About Babylonian SAS\n",
    "4. https://github.com/ianmcloughlin/playing-with-jupyter/blob/main/playing-with-jupyter.ipynb -GitHub Ian\n",
    "5. https://www.geeksforgeeks.org/precision-handling-python/ decimal\n",
    "https://docs.python.org/3/tutorial/floatingpoint.html\n",
    "6. https://stackoverflow.com/questions/58170806/how-to-compute-and-store-the-digits-of-sqrtn-up-to-106-decimal-places\n",
    "\n",
    "Task 2\n",
    "7. https://en.wikipedia.org/w/index.php?title=Chi-squared_test&oldid=983024096\n",
    "8. https://towardsdatascience.com/gentle-introduction-to-chi-square-test-for-independence-7182a7414a95 about Chi\n",
    "9. https://towardsdatascience.com/running-chi-square-tests-in-python-with-die-roll-data-b9903817c51b\n",
    "10. https://www.statisticshowto.com/probability-and-statistics/chi-square/\n",
    "\n",
    "Task 3\n",
    "11. https://support.microsoft.com/en-us/office/stdev-s-function-7d69cf97-0c1f-4acf-be27-f3e83904cc23\n",
    "12. https://www.exceltip.com/statistical-formulas/how-to-use-excel-stdev-p-function.html#:~:text=Let's%20Explore.-,The%20STDEV.,sample%20of%20the%20entire%20population.\n",
    "13. https://www.exceltip.com/statistical-formulas/how-to-use-stdev-s-function-in-excel.html\n",
    "14. https://stackoverflow.com/questions/64884294/stdev-s-and-stdev-p-using-numpy\n",
    "15. https://en.wikipedia.org/wiki/Bessel%27s_correction\n",
    "\n",
    "\n"
   ]
  },
  {
   "cell_type": "code",
   "execution_count": null,
   "metadata": {},
   "outputs": [],
   "source": [
    "\n"
   ]
  }
 ],
 "metadata": {
  "kernelspec": {
   "display_name": "Python 3",
   "language": "python",
   "name": "python3"
  },
  "language_info": {
   "codemirror_mode": {
    "name": "ipython",
    "version": 3
   },
   "file_extension": ".py",
   "mimetype": "text/x-python",
   "name": "python",
   "nbconvert_exporter": "python",
   "pygments_lexer": "ipython3",
   "version": "3.8.3"
  }
 },
 "nbformat": 4,
 "nbformat_minor": 4
}
