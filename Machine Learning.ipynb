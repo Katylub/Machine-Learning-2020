{
 "cells": [
  {
   "cell_type": "markdown",
   "metadata": {},
   "source": [
    "# Machine Learning and Statistic\n",
    "***"
   ]
  },
  {
   "cell_type": "markdown",
   "metadata": {},
   "source": [
    "### Introduction"
   ]
  },
  {
   "cell_type": "markdown",
   "metadata": {},
   "source": [
    "This document have been created to complete Machine Learning and Stadistic task assesment using Python and Jupyter Notebook. \n",
    "\n",
    "This projects will be separated in four different tasks."
   ]
  },
  {
   "cell_type": "markdown",
   "metadata": {},
   "source": [
    "### Task 1: "
   ]
  },
  {
   "cell_type": "markdown",
   "metadata": {},
   "source": [
    "<b>Write a Python function called sqrt2 that calculates and prints to the screen the square root of 2 to 100 decimal places. </b>\n",
    "\n",
    "We can calculate the square number of a root using Babylonian method, which sometimes is called Hero's method after the first-century Greek mathematician Hero of Alexandria who gave the first explicit description of the method in his work Metrica [2]. The formula is  derived from (but predates) Newton–Raphson method and can be represented as below:\n",
    "\n",
    "$$ x_{n+1} = 1/2 * (x_n + ( {S}/ {x_n}))$$\n",
    "\n",
    "\n",
    "### About Babylonian Method \n",
    "\n",
    "The iterative method is called the Babylonian method for finding square roots. It was known to the ancient Babylonians (1500 BC) and Greeks (100 AD) long before Newton invented his general procedure.[3]\n",
    "\n",
    "Here's how it works. Suppose you are given any positive number $S$. To find the square root of S, do the following:\n",
    "\n",
    "1. Make an initial guess. Guess any positive number $x_{0}$.\n",
    "2. Improve the guess. Apply the formula \n",
    "$x_{1} = (x_{0} + S / x_{0}) / 2$. The number $x_{1}$ is a better approximation to sqrt($S$). \n",
    "3. Iterate until convergence. Apply the formula $x_{n+1} = (x_{n} + S / x_{n}) / 2$ until the process converges. Convergence is achieved when the digits of $x_{n+1}$ and $x_{n}$ agree to as many decimal places as you desire.\n",
    "\n",
    "The idea is simple, starting from an arbitrary value of x, and y as 1, we can simply get next approximation of root by finding the average of x and y. Then the y value will be updated with  number / x [1,4]."
   ]
  },
  {
   "cell_type": "code",
   "execution_count": 15,
   "metadata": {},
   "outputs": [],
   "source": [
    "# Define the function to calculate the square root of a number n\n",
    "\n",
    "def sqrt2(n): \n",
    "  \n",
    "    # Use x as initial approximation (1)\n",
    "        x = n \n",
    "    # Initialize (2)\n",
    "        y = 1          \n",
    "    # e decides the accuracy level \n",
    "        e = 0.000001\n",
    "    # Create condition for accuracy and calculate the better guess (3)\n",
    "        while(x - y > e): \n",
    "    # Get the next approximation for root using average of x and y\n",
    "            x = (x + y)/2\n",
    "            y = n / x \n",
    "    # Return the (approximate) square root of x.\n",
    "        return x\n",
    "     "
   ]
  },
  {
   "cell_type": "code",
   "execution_count": 16,
   "metadata": {},
   "outputs": [
    {
     "data": {
      "text/plain": [
       "'1.4142135623746898698271934335934929549694061279296875000000000000000000000000000000000000000000000000'"
      ]
     },
     "execution_count": 16,
     "metadata": {},
     "output_type": "execute_result"
    }
   ],
   "source": [
    "#Ask for square root of 2 and print 100 decimals [5]. \n",
    "\"{0:.100f}\".format(sqrt2(2))"
   ]
  },
  {
   "cell_type": "markdown",
   "metadata": {},
   "source": [
    "### Task 2: "
   ]
  },
  {
   "cell_type": "markdown",
   "metadata": {},
   "source": [
    "<b>Use scipy.stats to verify the Chi-squared value of the table below it is approximately 24.6 and and calculate the associated p value. You should include a short note with references justifying your analysis in a markdown cell.[7]</b>\n",
    "\n",
    "|              | A   | B   | C   | D   | Total |\n",
    "|-------------:|-----|-----|-----|-----|-------|\n",
    "| White Collar | 90  | 60  | 104 | 95  | 349   |\n",
    "| Blue Collar  | 30  | 50  | 51  | 20  | 151   |\n",
    "| No Collar    | 30  | 40  | 45  | 35  | 150   |\n",
    "|------------- |-----|-----|-----|-----|-------|\n",
    "| Total        | 150 | 150 | 200 | 150 | 650   |\n",
    "    \n",
    "    \n",
    " ### About Chi-Square\n",
    "\n",
    "The Chi-squared test for independence is a statistical hypothesis test like a t-test. It is used to analyse whether two categorical variables are independent. \n"
   ]
  },
  {
   "cell_type": "markdown",
   "metadata": {},
   "source": [
    "from scipy.stats import chi2_contingency\n",
    "import pandas as pd\n",
    "import numpy as np"
   ]
  },
  {
   "cell_type": "code",
   "execution_count": null,
   "metadata": {},
   "outputs": [],
   "source": []
  },
  {
   "cell_type": "markdown",
   "metadata": {},
   "source": []
  },
  {
   "cell_type": "markdown",
   "metadata": {},
   "source": [
    "References:\n",
    "\n",
    "1. https://www.geeksforgeeks.org/square-root-of-a-perfect-square/ - Babylonian\n",
    "2. https://en.wikipedia.org/wiki/Methods_of_computing_square_roots#Babylonian_method - About babylonian\n",
    "3. https://blogs.sas.com/content/iml/2016/05/16/babylonian-square-roots.html - About Babylonian SAS\n",
    "4. https://github.com/ianmcloughlin/playing-with-jupyter/blob/main/playing-with-jupyter.ipynb -GitHub Ian\n",
    "5. https://www.geeksforgeeks.org/precision-handling-python/ decimal\n",
    "6. https://stackoverflow.com/questions/58170806/how-to-compute-and-store-the-digits-of-sqrtn-up-to-106-decimal-places\n",
    "\n",
    "Task 2\n",
    "7. https://en.wikipedia.org/w/index.php?title=Chi-squared_test&oldid=983024096\n",
    "\n",
    "\n",
    "\n"
   ]
  },
  {
   "cell_type": "code",
   "execution_count": null,
   "metadata": {},
   "outputs": [],
   "source": [
    "\n"
   ]
  }
 ],
 "metadata": {
  "kernelspec": {
   "display_name": "Python 3",
   "language": "python",
   "name": "python3"
  },
  "language_info": {
   "codemirror_mode": {
    "name": "ipython",
    "version": 3
   },
   "file_extension": ".py",
   "mimetype": "text/x-python",
   "name": "python",
   "nbconvert_exporter": "python",
   "pygments_lexer": "ipython3",
   "version": "3.8.3"
  }
 },
 "nbformat": 4,
 "nbformat_minor": 4
}
